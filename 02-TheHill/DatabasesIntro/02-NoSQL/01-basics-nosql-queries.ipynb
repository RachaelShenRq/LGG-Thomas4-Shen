{
 "cells": [
  {
   "cell_type": "markdown",
   "metadata": {},
   "source": [
    "# NoSQL: Basic queries on non-relational databases\n",
    "\n",
    "## NoSQL: Review\n",
    "\n",
    "A NoSQL database is designed to handle data that are not structured in tabular relations. The data can be stored in key-value pairs (like Python dictionaries), documents (JSON), or graphs.\n",
    "\n",
    "<img src=\"../assets/nosql_vs_sql.jpeg\"  width = 500 px></img>\n",
    "\n",
    "Unlike relational databases (SQL), NoSQL does not (necessarily) employ tables and rows. Also they are much more flexible since the structure of the entries is not predefined. Therefore you can add data without defining anything (even not the table itself).\n",
    "\n",
    "[This article](https://www.integrate.io/blog/the-sql-vs-nosql-difference/) gives a recap of the biggest differences between SQL and NoSQL database systems:\n",
    "|SQL|NoSQL|\n",
    "|---|---|\n",
    "|SQL databases are relational| NoSQL databases are non-relational. In NoSQL you cannot make relationships between tables (`JOIN`)|\n",
    "|SQL databases are table-based |NoSQL databases are document, key-value, graph, or wide-column stores.|\n",
    "|SQL databases use structured query language and have a predefined schema.| NoSQL databases have dynamic schemas for unstructured data.|\n",
    "|SQL databases are vertically scalable (by adding processing power)|NoSQL databases are horizontally scalable (by adding servers/machines).|\n",
    "|SQL databases are better for multi-row transactions|NoSQL is better for unstructured data like documents or JSON.|\n",
    "\n",
    "In the image, below you will find examples of popular SQL and NoSQL databases. \n",
    "\n",
    "<img src=\"../assets/popular_examples_nosql_sql.jpeg\" width =500px></img>\n",
    "\n",
    "In the next section, we'll cover an example using MongoDB. You will see that we can translate many of the basic SQL queries you know.\n",
    "\n",
    "## MongoDB\n",
    "\n",
    "<img src=\"https://upload.wikimedia.org/wikipedia/fr/thumb/4/45/MongoDB-Logo.svg/527px-MongoDB-Logo.svg.png\" />\n",
    "\n",
    "A lot of companies provide NoSQL architectures. One of the most popular is [MongoDB](https://www.mongodb.com/). A MongoDB database contains collections (tables) of documents (entries). The documents are stored in the JSON format which is very convenient to handle with Python!\n",
    "\n",
    "The syntax of the queries is based on JavaScript. They basically look like python dictionaries.\n",
    "\n",
    "Before diving in some exercises, you can have a look to [this quick intro](https://www.mongodb.com/docs/manual/tutorial/query-documents/) about MongoDB queries.\n",
    "\n",
    "### Creating the database\n",
    "\n",
    "We have created and filled a MongoDB database for you. You probably know already the database. It is the list of country leaders that you have used already in the Wikipedia project.\n",
    "\n",
    "You can set it up by deploying the Docker image we have pre-built:"
   ]
  },
  {
   "cell_type": "code",
   "execution_count": 1,
   "metadata": {},
   "outputs": [
    {
     "name": "stdout",
     "output_type": "stream",
     "text": [
      "#0 building with \"desktop-linux\" instance using docker driver\n",
      "\n",
      "#1 [mongo-seed internal] load build definition from Dockerfile\n",
      "#1 transferring dockerfile: 220B 0.0s done\n",
      "#1 WARN: JSONArgsRecommended: JSON arguments recommended for CMD to prevent unintended behavior related to OS signals (line 4)\n",
      "#1 DONE 0.0s\n",
      "\n",
      "#2 [mongo-seed internal] load metadata for docker.io/library/mongo:latest\n",
      "#2 DONE 0.0s\n",
      "\n",
      "#3 [mongo-seed internal] load .dockerignore\n",
      "#3 transferring context:\n",
      "#3 transferring context: 2B done\n",
      "#3 DONE 0.1s\n",
      "\n",
      "#4 [mongo-seed internal] load build context\n",
      "#4 transferring context: 55.75kB done\n",
      "#4 DONE 0.0s\n",
      "\n",
      "#5 [mongo-seed 1/2] FROM docker.io/library/mongo:latest\n",
      "#5 DONE 0.1s\n",
      "\n",
      "#6 [mongo-seed 2/2] COPY country_leaders.json /country_leaders.json\n",
      "#6 DONE 0.5s\n",
      "\n",
      "#7 [mongo-seed] exporting to image\n",
      "#7 exporting layers 0.0s done\n",
      "#7 writing image sha256:65a30be86d92a4e236a5077a9e9cfaba1a0ce750cee82b99f4d88c4adc3a7ea3 done\n",
      "#7 naming to docker.io/library/02-nosql-mongo-seed done\n",
      "#7 DONE 0.0s\n"
     ]
    },
    {
     "name": "stderr",
     "output_type": "stream",
     "text": [
      " mongodb Pulling \n",
      " 3713021b0277 Pulling fs layer \n",
      " 39bdcacccd97 Pulling fs layer \n",
      " d6b691142508 Pulling fs layer \n",
      " bcc1924dee6d Pulling fs layer \n",
      " 091a7990873d Pulling fs layer \n",
      " 77e5254f6ae8 Pulling fs layer \n",
      " 403f753f5920 Pulling fs layer \n",
      " 88cd53ea307c Pulling fs layer \n",
      " 091a7990873d Waiting \n",
      " 88cd53ea307c Waiting \n",
      " bcc1924dee6d Waiting \n",
      " 77e5254f6ae8 Waiting \n",
      " 403f753f5920 Waiting \n",
      " d6b691142508 Downloading [>                                                  ]  15.06kB/1.501MB\n",
      " d6b691142508 Downloading [====>                                              ]  143.8kB/1.501MB\n",
      " d6b691142508 Downloading [===========>                                       ]  342.3kB/1.501MB\n",
      " d6b691142508 Downloading [================>                                  ]  489.7kB/1.501MB\n",
      " 3713021b0277 Downloading [>                                                  ]  311.3kB/29.53MB\n",
      " 39bdcacccd97 Downloading [====================>                              ]     720B/1.782kB\n",
      " d6b691142508 Downloading [=====================>                             ]  637.2kB/1.501MB\n",
      " 39bdcacccd97 Downloading [==================================================>]  1.782kB/1.782kB\n",
      " 39bdcacccd97 Download complete \n",
      " 3713021b0277 Downloading [=>                                                 ]  613.6kB/29.53MB\n",
      " d6b691142508 Downloading [=========================>                         ]  764.2kB/1.501MB\n",
      " d6b691142508 Downloading [==============================>                    ]  911.6kB/1.501MB\n",
      " 3713021b0277 Downloading [=>                                                 ]  924.9kB/29.53MB\n",
      " d6b691142508 Downloading [==================================>                ]  1.035MB/1.501MB\n",
      " d6b691142508 Downloading [=====================================>             ]  1.116MB/1.501MB\n",
      " d6b691142508 Downloading [========================================>          ]  1.215MB/1.501MB\n",
      " 3713021b0277 Downloading [==>                                                ]  1.232MB/29.53MB\n",
      " d6b691142508 Downloading [============================================>      ]  1.329MB/1.501MB\n",
      " d6b691142508 Downloading [===============================================>   ]  1.428MB/1.501MB\n",
      " d6b691142508 Verifying Checksum \n",
      " d6b691142508 Download complete \n",
      " 3713021b0277 Downloading [==>                                                ]  1.543MB/29.53MB\n",
      " bcc1924dee6d Downloading [>                                                  ]  10.95kB/1.095MB\n",
      " bcc1924dee6d Downloading [========>                                          ]    185kB/1.095MB\n",
      " 3713021b0277 Downloading [===>                                               ]  1.855MB/29.53MB\n",
      " bcc1924dee6d Downloading [=============>                                     ]  302.3kB/1.095MB\n",
      " bcc1924dee6d Downloading [=======================>                           ]  511.2kB/1.095MB\n",
      " bcc1924dee6d Downloading [================================>                  ]  707.8kB/1.095MB\n",
      " bcc1924dee6d Downloading [===========================================>       ]  960.8kB/1.095MB\n",
      " bcc1924dee6d Verifying Checksum \n",
      " bcc1924dee6d Download complete \n",
      " 3713021b0277 Downloading [===>                                               ]  2.166MB/29.53MB\n",
      " 091a7990873d Downloading [==================================================>]     116B/116B\n",
      " 091a7990873d Download complete \n",
      " 3713021b0277 Downloading [====>                                              ]  2.477MB/29.53MB\n",
      " 3713021b0277 Downloading [====>                                              ]  2.789MB/29.53MB\n",
      " 3713021b0277 Downloading [=====>                                             ]    3.1MB/29.53MB\n",
      " 77e5254f6ae8 Downloading [==================================================>]     266B/266B\n",
      " 77e5254f6ae8 Download complete \n",
      " 3713021b0277 Downloading [=====>                                             ]  3.411MB/29.53MB\n",
      " 3713021b0277 Downloading [======>                                            ]  3.722MB/29.53MB\n",
      " 403f753f5920 Downloading [>                                                  ]  539.9kB/233.9MB\n",
      " 403f753f5920 Downloading [>                                                  ]  1.072MB/233.9MB\n",
      " 3713021b0277 Downloading [======>                                            ]  4.029MB/29.53MB\n",
      " 403f753f5920 Downloading [>                                                  ]  1.612MB/233.9MB\n",
      " 88cd53ea307c Downloading [=======>                                           ]     719B/4.996kB\n",
      " 88cd53ea307c Download complete \n",
      " 403f753f5920 Downloading [>                                                  ]  2.153MB/233.9MB\n",
      " 403f753f5920 Downloading [>                                                  ]  2.693MB/233.9MB\n",
      " 3713021b0277 Downloading [=======>                                           ]   4.34MB/29.53MB\n",
      " 403f753f5920 Downloading [>                                                  ]  3.234MB/233.9MB\n",
      " 403f753f5920 Downloading [>                                                  ]  3.775MB/233.9MB\n",
      " 403f753f5920 Downloading [>                                                  ]  4.315MB/233.9MB\n",
      " 403f753f5920 Downloading [=>                                                 ]  4.848MB/233.9MB\n",
      " 403f753f5920 Downloading [=>                                                 ]   5.38MB/233.9MB\n",
      " 3713021b0277 Downloading [=======>                                           ]  4.651MB/29.53MB\n",
      " 403f753f5920 Downloading [=>                                                 ]  5.921MB/233.9MB\n",
      " 403f753f5920 Downloading [=>                                                 ]  6.462MB/233.9MB\n",
      " 403f753f5920 Downloading [=>                                                 ]  7.002MB/233.9MB\n",
      " 403f753f5920 Downloading [=>                                                 ]  7.543MB/233.9MB\n",
      " 403f753f5920 Downloading [=>                                                 ]  8.071MB/233.9MB\n",
      " 3713021b0277 Downloading [========>                                          ]  4.958MB/29.53MB\n",
      " 403f753f5920 Downloading [=>                                                 ]  8.608MB/233.9MB\n",
      " 403f753f5920 Downloading [=>                                                 ]   9.14MB/233.9MB\n",
      " 403f753f5920 Downloading [==>                                                ]  9.673MB/233.9MB\n",
      " 403f753f5920 Downloading [==>                                                ]  10.21MB/233.9MB\n",
      " 403f753f5920 Downloading [==>                                                ]  10.75MB/233.9MB\n",
      " 403f753f5920 Downloading [==>                                                ]  11.28MB/233.9MB\n",
      " 403f753f5920 Downloading [==>                                                ]  11.82MB/233.9MB\n",
      " 3713021b0277 Downloading [========>                                          ]  5.262MB/29.53MB\n",
      " 403f753f5920 Downloading [==>                                                ]  12.36MB/233.9MB\n",
      " 403f753f5920 Downloading [==>                                                ]   12.9MB/233.9MB\n",
      " 403f753f5920 Downloading [==>                                                ]  13.43MB/233.9MB\n",
      " 403f753f5920 Downloading [==>                                                ]  13.97MB/233.9MB\n",
      " 403f753f5920 Downloading [===>                                               ]  14.51MB/233.9MB\n",
      " 3713021b0277 Downloading [=========>                                         ]  5.573MB/29.53MB\n",
      " 403f753f5920 Downloading [===>                                               ]  15.05MB/233.9MB\n",
      " 403f753f5920 Downloading [===>                                               ]  15.59MB/233.9MB\n",
      " 403f753f5920 Downloading [===>                                               ]  16.12MB/233.9MB\n",
      " 403f753f5920 Downloading [===>                                               ]  16.65MB/233.9MB\n",
      " 403f753f5920 Downloading [===>                                               ]  17.18MB/233.9MB\n",
      " 403f753f5920 Downloading [===>                                               ]  17.71MB/233.9MB\n",
      " 403f753f5920 Downloading [===>                                               ]  18.25MB/233.9MB\n",
      " 403f753f5920 Downloading [====>                                              ]  18.78MB/233.9MB\n",
      " 403f753f5920 Downloading [====>                                              ]  19.32MB/233.9MB\n",
      " 403f753f5920 Downloading [====>                                              ]  19.86MB/233.9MB\n",
      " 403f753f5920 Downloading [====>                                              ]  20.39MB/233.9MB\n",
      " 3713021b0277 Downloading [=========>                                         ]  5.884MB/29.53MB\n",
      " 403f753f5920 Downloading [====>                                              ]  20.93MB/233.9MB\n",
      " 403f753f5920 Downloading [====>                                              ]  21.47MB/233.9MB\n",
      " 403f753f5920 Downloading [====>                                              ]     22MB/233.9MB\n",
      " 403f753f5920 Downloading [====>                                              ]  22.54MB/233.9MB\n",
      " 403f753f5920 Downloading [====>                                              ]  23.08MB/233.9MB\n",
      " 403f753f5920 Downloading [=====>                                             ]  23.62MB/233.9MB\n",
      " 403f753f5920 Downloading [=====>                                             ]  24.15MB/233.9MB\n",
      " 3713021b0277 Downloading [==========>                                        ]  6.195MB/29.53MB\n",
      " 403f753f5920 Downloading [=====>                                             ]  24.68MB/233.9MB\n",
      " 403f753f5920 Downloading [=====>                                             ]  25.22MB/233.9MB\n",
      " 403f753f5920 Downloading [=====>                                             ]  25.75MB/233.9MB\n",
      " 403f753f5920 Downloading [=====>                                             ]  26.29MB/233.9MB\n",
      " 403f753f5920 Downloading [=====>                                             ]  26.82MB/233.9MB\n",
      " 403f753f5920 Downloading [=====>                                             ]  27.35MB/233.9MB\n",
      " 403f753f5920 Downloading [=====>                                             ]  27.89MB/233.9MB\n",
      " 3713021b0277 Downloading [===========>                                       ]  6.507MB/29.53MB\n",
      " 403f753f5920 Downloading [======>                                            ]  28.43MB/233.9MB\n",
      " 403f753f5920 Downloading [======>                                            ]   29.5MB/233.9MB\n",
      " 403f753f5920 Downloading [======>                                            ]  30.58MB/233.9MB\n",
      " 3713021b0277 Downloading [===========>                                       ]  6.818MB/29.53MB\n",
      " 403f753f5920 Downloading [======>                                            ]  31.65MB/233.9MB\n",
      " 403f753f5920 Downloading [======>                                            ]  32.72MB/233.9MB\n",
      " 3713021b0277 Downloading [============>                                      ]  7.125MB/29.53MB\n",
      " 403f753f5920 Downloading [=======>                                           ]  33.79MB/233.9MB\n",
      " 403f753f5920 Downloading [=======>                                           ]  34.87MB/233.9MB\n",
      " 403f753f5920 Downloading [=======>                                           ]  35.95MB/233.9MB\n",
      " 3713021b0277 Downloading [============>                                      ]  7.424MB/29.53MB\n",
      " 403f753f5920 Downloading [=======>                                           ]  36.48MB/233.9MB\n",
      " 3713021b0277 Downloading [=============>                                     ]  7.736MB/29.53MB\n",
      " 403f753f5920 Downloading [========>                                          ]  38.09MB/233.9MB\n",
      " 403f753f5920 Downloading [========>                                          ]   39.7MB/233.9MB\n",
      " 3713021b0277 Downloading [=============>                                     ]  8.043MB/29.53MB\n",
      " 403f753f5920 Downloading [========>                                          ]  40.78MB/233.9MB\n",
      " 403f753f5920 Downloading [========>                                          ]  41.84MB/233.9MB\n",
      " 3713021b0277 Downloading [==============>                                    ]  8.354MB/29.53MB\n",
      " 403f753f5920 Downloading [=========>                                         ]  42.92MB/233.9MB\n",
      " 3713021b0277 Downloading [==============>                                    ]  8.665MB/29.53MB\n",
      " 403f753f5920 Downloading [=========>                                         ]     44MB/233.9MB\n",
      " 403f753f5920 Downloading [=========>                                         ]  45.07MB/233.9MB\n",
      " 3713021b0277 Downloading [===============>                                   ]  8.977MB/29.53MB\n",
      " 403f753f5920 Downloading [=========>                                         ]  46.16MB/233.9MB\n",
      " 3713021b0277 Downloading [===============>                                   ]  9.276MB/29.53MB\n",
      " 403f753f5920 Downloading [=========>                                         ]   46.7MB/233.9MB\n",
      " 403f753f5920 Downloading [==========>                                        ]  47.24MB/233.9MB\n",
      " 3713021b0277 Downloading [================>                                  ]  9.587MB/29.53MB\n",
      " 403f753f5920 Downloading [==========>                                        ]  47.77MB/233.9MB\n",
      " 403f753f5920 Downloading [==========>                                        ]  48.31MB/233.9MB\n",
      " 3713021b0277 Downloading [================>                                  ]  9.898MB/29.53MB\n",
      " 403f753f5920 Downloading [==========>                                        ]  48.84MB/233.9MB\n",
      " 3713021b0277 Downloading [=================>                                 ]  10.21MB/29.53MB\n",
      " 403f753f5920 Downloading [==========>                                        ]  49.37MB/233.9MB\n",
      " 3713021b0277 Downloading [=================>                                 ]  10.52MB/29.53MB\n",
      " 3713021b0277 Downloading [==================>                                ]  10.83MB/29.53MB\n",
      " 403f753f5920 Downloading [==========>                                        ]   49.9MB/233.9MB\n",
      " 3713021b0277 Downloading [==================>                                ]  11.14MB/29.53MB\n",
      " 3713021b0277 Downloading [===================>                               ]  11.45MB/29.53MB\n",
      " 403f753f5920 Downloading [==========>                                        ]  50.44MB/233.9MB\n",
      " 3713021b0277 Downloading [===================>                               ]  11.75MB/29.53MB\n",
      " 3713021b0277 Downloading [====================>                              ]  12.05MB/29.53MB\n",
      " 403f753f5920 Downloading [==========>                                        ]  50.97MB/233.9MB\n",
      " 3713021b0277 Downloading [====================>                              ]  12.36MB/29.53MB\n",
      " 403f753f5920 Downloading [===========>                                       ]  51.51MB/233.9MB\n",
      " 3713021b0277 Downloading [=====================>                             ]  12.66MB/29.53MB\n",
      " 3713021b0277 Downloading [=====================>                             ]  12.97MB/29.53MB\n",
      " 403f753f5920 Downloading [===========>                                       ]  52.04MB/233.9MB\n",
      " 3713021b0277 Downloading [======================>                            ]  13.28MB/29.53MB\n",
      " 3713021b0277 Downloading [=======================>                           ]  13.59MB/29.53MB\n",
      " 403f753f5920 Downloading [===========>                                       ]  52.58MB/233.9MB\n",
      " 3713021b0277 Downloading [=======================>                           ]  13.89MB/29.53MB\n",
      " 403f753f5920 Downloading [===========>                                       ]  53.12MB/233.9MB\n",
      " 3713021b0277 Downloading [========================>                          ]   14.2MB/29.53MB\n",
      " 3713021b0277 Downloading [========================>                          ]  14.51MB/29.53MB\n",
      " 403f753f5920 Downloading [===========>                                       ]  53.66MB/233.9MB\n",
      " 3713021b0277 Downloading [=========================>                         ]  14.82MB/29.53MB\n",
      " 3713021b0277 Downloading [=========================>                         ]  15.13MB/29.53MB\n",
      " 403f753f5920 Downloading [===========>                                       ]   54.2MB/233.9MB\n",
      " 3713021b0277 Downloading [==========================>                        ]  15.43MB/29.53MB\n",
      " 3713021b0277 Downloading [==========================>                        ]  15.74MB/29.53MB\n",
      " 403f753f5920 Downloading [===========>                                       ]  54.72MB/233.9MB\n",
      " 3713021b0277 Downloading [===========================>                       ]  16.05MB/29.53MB\n",
      " 3713021b0277 Downloading [===========================>                       ]  16.36MB/29.53MB\n",
      " 403f753f5920 Downloading [===========>                                       ]  55.27MB/233.9MB\n",
      " 3713021b0277 Downloading [============================>                      ]  16.67MB/29.53MB\n",
      " 3713021b0277 Downloading [============================>                      ]  16.98MB/29.53MB\n",
      " 403f753f5920 Downloading [===========>                                       ]  55.81MB/233.9MB\n",
      " 3713021b0277 Downloading [=============================>                     ]  17.28MB/29.53MB\n",
      " 3713021b0277 Downloading [=============================>                     ]  17.59MB/29.53MB\n",
      " 403f753f5920 Downloading [============>                                      ]  56.35MB/233.9MB\n",
      " 3713021b0277 Downloading [==============================>                    ]  17.91MB/29.53MB\n",
      " 3713021b0277 Downloading [==============================>                    ]  18.21MB/29.53MB\n",
      " 403f753f5920 Downloading [============>                                      ]  56.88MB/233.9MB\n",
      " 3713021b0277 Downloading [===============================>                   ]  18.52MB/29.53MB\n",
      " 3713021b0277 Downloading [===============================>                   ]  18.83MB/29.53MB\n",
      " 403f753f5920 Downloading [============>                                      ]  57.42MB/233.9MB\n",
      " 3713021b0277 Downloading [================================>                  ]  19.14MB/29.53MB\n",
      " 403f753f5920 Downloading [============>                                      ]  57.94MB/233.9MB\n",
      " 3713021b0277 Downloading [================================>                  ]  19.45MB/29.53MB\n",
      " 3713021b0277 Downloading [=================================>                 ]  19.76MB/29.53MB\n",
      " 403f753f5920 Downloading [============>                                      ]  58.48MB/233.9MB\n",
      " 3713021b0277 Downloading [=================================>                 ]  20.07MB/29.53MB\n",
      " 403f753f5920 Downloading [============>                                      ]  59.02MB/233.9MB\n",
      " 3713021b0277 Downloading [==================================>                ]  20.37MB/29.53MB\n",
      " 3713021b0277 Downloading [===================================>               ]  20.68MB/29.53MB\n",
      " 403f753f5920 Downloading [============>                                      ]  59.55MB/233.9MB\n",
      " 3713021b0277 Downloading [===================================>               ]  20.99MB/29.53MB\n",
      " 403f753f5920 Downloading [============>                                      ]  60.09MB/233.9MB\n",
      " 3713021b0277 Downloading [====================================>              ]  21.62MB/29.53MB\n",
      " 403f753f5920 Downloading [============>                                      ]  60.63MB/233.9MB\n",
      " 3713021b0277 Downloading [=====================================>             ]  22.24MB/29.53MB\n",
      " 3713021b0277 Downloading [======================================>            ]  22.85MB/29.53MB\n",
      " 403f753f5920 Downloading [=============>                                     ]  61.17MB/233.9MB\n",
      " 3713021b0277 Downloading [=======================================>           ]  23.47MB/29.53MB\n",
      " 403f753f5920 Downloading [=============>                                     ]   61.7MB/233.9MB\n",
      " 3713021b0277 Downloading [========================================>          ]  24.09MB/29.53MB\n",
      " 403f753f5920 Downloading [=============>                                     ]  62.24MB/233.9MB\n",
      " 3713021b0277 Downloading [==========================================>        ]     25MB/29.53MB\n",
      " 403f753f5920 Downloading [=============>                                     ]  62.78MB/233.9MB\n",
      " 3713021b0277 Downloading [===========================================>       ]  25.63MB/29.53MB\n",
      " 403f753f5920 Downloading [=============>                                     ]  63.32MB/233.9MB\n",
      " 3713021b0277 Downloading [============================================>      ]  26.24MB/29.53MB\n",
      " 403f753f5920 Downloading [=============>                                     ]  63.86MB/233.9MB\n",
      " 403f753f5920 Downloading [=============>                                     ]  64.39MB/233.9MB\n",
      " 3713021b0277 Downloading [=============================================>     ]  27.15MB/29.53MB\n",
      " 403f753f5920 Downloading [=============>                                     ]  64.92MB/233.9MB\n",
      " 3713021b0277 Downloading [===============================================>   ]  27.78MB/29.53MB\n",
      " 403f753f5920 Downloading [=============>                                     ]  65.45MB/233.9MB\n",
      " 3713021b0277 Downloading [================================================>  ]  28.69MB/29.53MB\n",
      " 403f753f5920 Downloading [==============>                                    ]  65.98MB/233.9MB\n",
      " 3713021b0277 Downloading [=================================================> ]  29.31MB/29.53MB\n",
      " 3713021b0277 Verifying Checksum \n",
      " 3713021b0277 Download complete \n",
      " 3713021b0277 Extracting [>                                                  ]  327.7kB/29.53MB\n",
      " 403f753f5920 Downloading [==============>                                    ]  67.05MB/233.9MB\n",
      " 3713021b0277 Extracting [========>                                          ]  4.915MB/29.53MB\n",
      " 403f753f5920 Downloading [==============>                                    ]  68.12MB/233.9MB\n",
      " 3713021b0277 Extracting [=============>                                     ]  7.864MB/29.53MB\n",
      " 3713021b0277 Extracting [================>                                  ]   9.83MB/29.53MB\n",
      " 403f753f5920 Downloading [==============>                                    ]   69.2MB/233.9MB\n",
      " 3713021b0277 Extracting [========================>                          ]  14.75MB/29.53MB\n",
      " 403f753f5920 Downloading [===============>                                   ]  70.29MB/233.9MB\n",
      " 3713021b0277 Extracting [====================================>              ]   21.3MB/29.53MB\n",
      " 403f753f5920 Downloading [===============>                                   ]  71.37MB/233.9MB\n",
      " 3713021b0277 Extracting [===========================================>       ]  25.56MB/29.53MB\n",
      " 403f753f5920 Downloading [===============>                                   ]  72.45MB/233.9MB\n",
      " 3713021b0277 Extracting [===========================================>       ]  25.89MB/29.53MB\n",
      " 403f753f5920 Downloading [===============>                                   ]  73.53MB/233.9MB\n",
      " 3713021b0277 Extracting [===============================================>   ]  28.18MB/29.53MB\n",
      " 403f753f5920 Downloading [===============>                                   ]  74.61MB/233.9MB\n",
      " 3713021b0277 Extracting [=================================================> ]  29.16MB/29.53MB\n",
      " 403f753f5920 Downloading [================>                                  ]  75.68MB/233.9MB\n",
      " 3713021b0277 Extracting [==================================================>]  29.53MB/29.53MB\n",
      " 403f753f5920 Downloading [================>                                  ]  77.29MB/233.9MB\n",
      " 3713021b0277 Pull complete \n",
      " 39bdcacccd97 Extracting [==================================================>]  1.782kB/1.782kB\n",
      " 39bdcacccd97 Extracting [==================================================>]  1.782kB/1.782kB\n",
      " 39bdcacccd97 Pull complete \n",
      " d6b691142508 Extracting [=>                                                 ]  32.77kB/1.501MB\n",
      " d6b691142508 Extracting [==================================================>]  1.501MB/1.501MB\n",
      " d6b691142508 Extracting [==================================================>]  1.501MB/1.501MB\n",
      " d6b691142508 Pull complete \n",
      " bcc1924dee6d Extracting [=>                                                 ]  32.77kB/1.095MB\n",
      " bcc1924dee6d Extracting [==================================================>]  1.095MB/1.095MB\n",
      " bcc1924dee6d Extracting [==================================================>]  1.095MB/1.095MB\n",
      " 403f753f5920 Downloading [================>                                  ]  78.38MB/233.9MB\n",
      " bcc1924dee6d Pull complete \n",
      " 091a7990873d Extracting [==================================================>]     116B/116B\n",
      " 091a7990873d Extracting [==================================================>]     116B/116B\n",
      " 091a7990873d Pull complete \n",
      " 77e5254f6ae8 Extracting [==================================================>]     266B/266B\n",
      " 77e5254f6ae8 Extracting [==================================================>]     266B/266B\n",
      " 77e5254f6ae8 Pull complete \n",
      " 403f753f5920 Downloading [================>                                  ]  79.46MB/233.9MB\n",
      " 403f753f5920 Downloading [=================>                                 ]  80.54MB/233.9MB\n",
      " 403f753f5920 Downloading [=================>                                 ]  81.62MB/233.9MB\n",
      " 403f753f5920 Downloading [=================>                                 ]  82.69MB/233.9MB\n",
      " 403f753f5920 Downloading [==================>                                ]  84.31MB/233.9MB\n",
      " 403f753f5920 Downloading [==================>                                ]  85.39MB/233.9MB\n",
      " 403f753f5920 Downloading [==================>                                ]  86.46MB/233.9MB\n",
      " 403f753f5920 Downloading [==================>                                ]  87.53MB/233.9MB\n",
      " 403f753f5920 Downloading [===================>                               ]  89.15MB/233.9MB\n",
      " 403f753f5920 Downloading [===================>                               ]  90.77MB/233.9MB\n",
      " 403f753f5920 Downloading [===================>                               ]  92.38MB/233.9MB\n",
      " 403f753f5920 Downloading [===================>                               ]  93.46MB/233.9MB\n",
      " 403f753f5920 Downloading [====================>                              ]  95.08MB/233.9MB\n",
      " 403f753f5920 Downloading [====================>                              ]  96.16MB/233.9MB\n",
      " 403f753f5920 Downloading [====================>                              ]  97.78MB/233.9MB\n",
      " 403f753f5920 Downloading [=====================>                             ]  98.85MB/233.9MB\n",
      " 403f753f5920 Downloading [=====================>                             ]  100.4MB/233.9MB\n",
      " 403f753f5920 Downloading [=====================>                             ]  101.5MB/233.9MB\n",
      " 403f753f5920 Downloading [======================>                            ]  103.1MB/233.9MB\n",
      " 403f753f5920 Downloading [======================>                            ]  104.2MB/233.9MB\n",
      " 403f753f5920 Downloading [======================>                            ]  105.3MB/233.9MB\n",
      " 403f753f5920 Downloading [======================>                            ]  106.4MB/233.9MB\n",
      " 403f753f5920 Downloading [======================>                            ]  107.4MB/233.9MB\n",
      " 403f753f5920 Downloading [=======================>                           ]  109.1MB/233.9MB\n",
      " 403f753f5920 Downloading [=======================>                           ]  110.1MB/233.9MB\n",
      " 403f753f5920 Downloading [=======================>                           ]  111.2MB/233.9MB\n",
      " 403f753f5920 Downloading [========================>                          ]  112.3MB/233.9MB\n",
      " 403f753f5920 Downloading [========================>                          ]  113.4MB/233.9MB\n",
      " 403f753f5920 Downloading [========================>                          ]  114.4MB/233.9MB\n",
      " 403f753f5920 Downloading [========================>                          ]  116.1MB/233.9MB\n",
      " 403f753f5920 Downloading [=========================>                         ]  117.7MB/233.9MB\n",
      " 403f753f5920 Downloading [=========================>                         ]  118.7MB/233.9MB\n",
      " 403f753f5920 Downloading [=========================>                         ]  119.8MB/233.9MB\n",
      " 403f753f5920 Downloading [=========================>                         ]  120.9MB/233.9MB\n",
      " 403f753f5920 Downloading [==========================>                        ]    122MB/233.9MB\n",
      " 403f753f5920 Downloading [==========================>                        ]    123MB/233.9MB\n",
      " 403f753f5920 Downloading [==========================>                        ]  124.1MB/233.9MB\n",
      " 403f753f5920 Downloading [==========================>                        ]  125.2MB/233.9MB\n",
      " 403f753f5920 Downloading [===========================>                       ]  126.8MB/233.9MB\n",
      " 403f753f5920 Downloading [===========================>                       ]  127.9MB/233.9MB\n",
      " 403f753f5920 Downloading [===========================>                       ]    129MB/233.9MB\n",
      " 403f753f5920 Downloading [===========================>                       ]  130.1MB/233.9MB\n",
      " 403f753f5920 Downloading [============================>                      ]  131.7MB/233.9MB\n",
      " 403f753f5920 Downloading [============================>                      ]  132.7MB/233.9MB\n",
      " 403f753f5920 Downloading [============================>                      ]  134.4MB/233.9MB\n",
      " 403f753f5920 Downloading [=============================>                     ]    136MB/233.9MB\n",
      " 403f753f5920 Downloading [=============================>                     ]  137.1MB/233.9MB\n",
      " 403f753f5920 Downloading [=============================>                     ]  138.7MB/233.9MB\n",
      " 403f753f5920 Downloading [=============================>                     ]  140.3MB/233.9MB\n",
      " 403f753f5920 Downloading [==============================>                    ]  141.4MB/233.9MB\n",
      " 403f753f5920 Downloading [==============================>                    ]    143MB/233.9MB\n",
      " 403f753f5920 Downloading [==============================>                    ]  144.6MB/233.9MB\n",
      " 403f753f5920 Downloading [===============================>                   ]  145.7MB/233.9MB\n",
      " 403f753f5920 Downloading [===============================>                   ]  146.8MB/233.9MB\n",
      " 403f753f5920 Downloading [===============================>                   ]  147.8MB/233.9MB\n",
      " 403f753f5920 Downloading [===============================>                   ]  148.4MB/233.9MB\n",
      " 403f753f5920 Downloading [================================>                  ]    150MB/233.9MB\n",
      " 403f753f5920 Downloading [================================>                  ]  151.1MB/233.9MB\n",
      " 403f753f5920 Downloading [================================>                  ]  152.1MB/233.9MB\n",
      " 403f753f5920 Downloading [================================>                  ]  153.2MB/233.9MB\n",
      " 403f753f5920 Downloading [================================>                  ]  154.3MB/233.9MB\n",
      " 403f753f5920 Downloading [=================================>                 ]  155.9MB/233.9MB\n",
      " 403f753f5920 Downloading [=================================>                 ]    157MB/233.9MB\n",
      " 403f753f5920 Downloading [=================================>                 ]  158.6MB/233.9MB\n",
      " 403f753f5920 Downloading [==================================>                ]  159.7MB/233.9MB\n",
      " 403f753f5920 Downloading [==================================>                ]  160.7MB/233.9MB\n",
      " 403f753f5920 Downloading [==================================>                ]  161.8MB/233.9MB\n",
      " 403f753f5920 Downloading [==================================>                ]  163.4MB/233.9MB\n",
      " 403f753f5920 Downloading [===================================>               ]  164.5MB/233.9MB\n",
      " 403f753f5920 Downloading [===================================>               ]  165.6MB/233.9MB\n",
      " 403f753f5920 Downloading [===================================>               ]  166.7MB/233.9MB\n",
      " 403f753f5920 Downloading [===================================>               ]  168.3MB/233.9MB\n",
      " 403f753f5920 Downloading [====================================>              ]  169.9MB/233.9MB\n",
      " 403f753f5920 Downloading [====================================>              ]    171MB/233.9MB\n",
      " 403f753f5920 Downloading [====================================>              ]    172MB/233.9MB\n",
      " 403f753f5920 Downloading [=====================================>             ]  173.1MB/233.9MB\n",
      " 403f753f5920 Downloading [=====================================>             ]  174.2MB/233.9MB\n",
      " 403f753f5920 Downloading [=====================================>             ]  175.3MB/233.9MB\n",
      " 403f753f5920 Downloading [=====================================>             ]  176.4MB/233.9MB\n",
      " 403f753f5920 Downloading [======================================>            ]    178MB/233.9MB\n",
      " 403f753f5920 Downloading [======================================>            ]  179.1MB/233.9MB\n",
      " 403f753f5920 Downloading [======================================>            ]  180.1MB/233.9MB\n",
      " 403f753f5920 Downloading [======================================>            ]  181.8MB/233.9MB\n",
      " 403f753f5920 Downloading [=======================================>           ]  182.8MB/233.9MB\n",
      " 403f753f5920 Downloading [=======================================>           ]  183.9MB/233.9MB\n",
      " 403f753f5920 Downloading [=======================================>           ]    185MB/233.9MB\n",
      " 403f753f5920 Downloading [=======================================>           ]  186.1MB/233.9MB\n",
      " 403f753f5920 Downloading [========================================>          ]  187.1MB/233.9MB\n",
      " 403f753f5920 Downloading [========================================>          ]  188.2MB/233.9MB\n",
      " 403f753f5920 Downloading [========================================>          ]  189.8MB/233.9MB\n",
      " 403f753f5920 Downloading [========================================>          ]  190.9MB/233.9MB\n",
      " 403f753f5920 Downloading [=========================================>         ]  191.9MB/233.9MB\n",
      " 403f753f5920 Downloading [=========================================>         ]    193MB/233.9MB\n",
      " 403f753f5920 Downloading [=========================================>         ]  194.1MB/233.9MB\n",
      " 403f753f5920 Downloading [=========================================>         ]  195.2MB/233.9MB\n",
      " 403f753f5920 Downloading [=========================================>         ]  196.2MB/233.9MB\n",
      " 403f753f5920 Downloading [==========================================>        ]  197.3MB/233.9MB\n",
      " 403f753f5920 Downloading [==========================================>        ]  198.4MB/233.9MB\n",
      " 403f753f5920 Downloading [==========================================>        ]    200MB/233.9MB\n",
      " 403f753f5920 Downloading [===========================================>       ]  201.6MB/233.9MB\n",
      " 403f753f5920 Downloading [===========================================>       ]  202.7MB/233.9MB\n",
      " 403f753f5920 Downloading [===========================================>       ]  203.8MB/233.9MB\n",
      " 403f753f5920 Downloading [===========================================>       ]  204.8MB/233.9MB\n",
      " 403f753f5920 Downloading [============================================>      ]  205.9MB/233.9MB\n",
      " 403f753f5920 Downloading [============================================>      ]  207.5MB/233.9MB\n",
      " 403f753f5920 Downloading [============================================>      ]  208.6MB/233.9MB\n",
      " 403f753f5920 Downloading [============================================>      ]  209.7MB/233.9MB\n",
      " 403f753f5920 Downloading [=============================================>     ]  210.8MB/233.9MB\n",
      " 403f753f5920 Downloading [=============================================>     ]  212.4MB/233.9MB\n",
      " 403f753f5920 Downloading [=============================================>     ]    214MB/233.9MB\n",
      " 403f753f5920 Downloading [=============================================>     ]  215.1MB/233.9MB\n",
      " 403f753f5920 Downloading [==============================================>    ]  216.1MB/233.9MB\n",
      " 403f753f5920 Downloading [==============================================>    ]  217.7MB/233.9MB\n",
      " 403f753f5920 Downloading [==============================================>    ]  218.8MB/233.9MB\n",
      " 403f753f5920 Downloading [===============================================>   ]  219.9MB/233.9MB\n",
      " 403f753f5920 Downloading [===============================================>   ]    221MB/233.9MB\n",
      " 403f753f5920 Downloading [===============================================>   ]  221.5MB/233.9MB\n",
      " 403f753f5920 Downloading [===============================================>   ]  223.7MB/233.9MB\n",
      " 403f753f5920 Downloading [================================================>  ]  224.7MB/233.9MB\n",
      " 403f753f5920 Downloading [================================================>  ]  225.8MB/233.9MB\n",
      " 403f753f5920 Downloading [================================================>  ]  226.9MB/233.9MB\n",
      " 403f753f5920 Downloading [================================================>  ]  227.9MB/233.9MB\n",
      " 403f753f5920 Downloading [================================================>  ]  228.5MB/233.9MB\n",
      " 403f753f5920 Downloading [=================================================> ]  229.6MB/233.9MB\n",
      " 403f753f5920 Downloading [=================================================> ]  230.6MB/233.9MB\n",
      " 403f753f5920 Downloading [=================================================> ]  231.7MB/233.9MB\n",
      " 403f753f5920 Downloading [=================================================> ]  232.8MB/233.9MB\n",
      " 403f753f5920 Downloading [=================================================> ]  233.9MB/233.9MB\n",
      " 403f753f5920 Verifying Checksum \n",
      " 403f753f5920 Download complete \n",
      " 403f753f5920 Extracting [>                                                  ]  557.1kB/233.9MB\n",
      " 403f753f5920 Extracting [==>                                                ]  10.03MB/233.9MB\n",
      " 403f753f5920 Extracting [==>                                                ]   11.7MB/233.9MB\n",
      " 403f753f5920 Extracting [====>                                              ]  21.17MB/233.9MB\n",
      " 403f753f5920 Extracting [======>                                            ]  29.52MB/233.9MB\n",
      " 403f753f5920 Extracting [========>                                          ]  38.44MB/233.9MB\n",
      " 403f753f5920 Extracting [==========>                                        ]  47.35MB/233.9MB\n",
      " 403f753f5920 Extracting [===========>                                       ]  55.15MB/233.9MB\n",
      " 403f753f5920 Extracting [============>                                      ]  57.38MB/233.9MB\n",
      " 403f753f5920 Extracting [============>                                      ]  60.72MB/233.9MB\n",
      " 403f753f5920 Extracting [===============>                                   ]   71.3MB/233.9MB\n",
      " 403f753f5920 Extracting [=================>                                 ]  83.56MB/233.9MB\n",
      " 403f753f5920 Extracting [====================>                              ]  94.14MB/233.9MB\n",
      " 403f753f5920 Extracting [=====================>                             ]  101.4MB/233.9MB\n",
      " 403f753f5920 Extracting [=======================>                           ]  109.7MB/233.9MB\n",
      " 403f753f5920 Extracting [=========================>                         ]  118.7MB/233.9MB\n",
      " 403f753f5920 Extracting [===========================>                       ]  127.6MB/233.9MB\n",
      " 403f753f5920 Extracting [============================>                      ]  133.1MB/233.9MB\n",
      " 403f753f5920 Extracting [=============================>                     ]  135.9MB/233.9MB\n",
      " 403f753f5920 Extracting [==============================>                    ]  144.8MB/233.9MB\n",
      " 403f753f5920 Extracting [================================>                  ]  152.6MB/233.9MB\n",
      " 403f753f5920 Extracting [=================================>                 ]  158.8MB/233.9MB\n",
      " 403f753f5920 Extracting [===================================>               ]  168.2MB/233.9MB\n",
      " 403f753f5920 Extracting [======================================>            ]  178.3MB/233.9MB\n",
      " 403f753f5920 Extracting [=======================================>           ]  184.9MB/233.9MB\n",
      " 403f753f5920 Extracting [=========================================>         ]    195MB/233.9MB\n",
      " 403f753f5920 Extracting [============================================>      ]  206.7MB/233.9MB\n",
      " 403f753f5920 Extracting [==============================================>    ]  216.1MB/233.9MB\n",
      " 403f753f5920 Extracting [================================================>  ]  225.6MB/233.9MB\n",
      " 403f753f5920 Extracting [=================================================> ]  230.1MB/233.9MB\n",
      " 403f753f5920 Extracting [=================================================> ]  232.8MB/233.9MB\n",
      " 403f753f5920 Extracting [=================================================> ]  233.4MB/233.9MB\n",
      " 403f753f5920 Extracting [==================================================>]  233.9MB/233.9MB\n",
      " 403f753f5920 Pull complete \n",
      " 88cd53ea307c Extracting [==================================================>]  4.996kB/4.996kB\n",
      " 88cd53ea307c Extracting [==================================================>]  4.996kB/4.996kB\n",
      " 88cd53ea307c Pull complete \n",
      " mongodb Pulled \n",
      " Network 02-nosql_default  Creating\n",
      " Network 02-nosql_default  Created\n",
      " Container mongodb  Creating\n",
      " Container mongodb  Created\n",
      " Container 02-nosql-mongo-seed-1  Creating\n",
      " Container 02-nosql-mongo-seed-1  Created\n",
      " Container mongodb  Starting\n",
      " Container mongodb  Started\n",
      " Container 02-nosql-mongo-seed-1  Starting\n",
      " Container 02-nosql-mongo-seed-1  Started\n"
     ]
    }
   ],
   "source": [
    "# You can run it from this notebook with:\n",
    "!docker-compose up -d\n",
    "\n",
    "# Or in your terminal with:\n",
    "# docker-compose up -d"
   ]
  },
  {
   "cell_type": "markdown",
   "metadata": {},
   "source": [
    "### Conneting to the database\n",
    "\n",
    "For using MongoDB through Python you will need to install the `pymongo` library."
   ]
  },
  {
   "cell_type": "code",
   "execution_count": 1,
   "metadata": {},
   "outputs": [
    {
     "data": {
      "text/plain": [
       "['leaders']"
      ]
     },
     "execution_count": 1,
     "metadata": {},
     "output_type": "execute_result"
    }
   ],
   "source": [
    "from pymongo import MongoClient\n",
    "\n",
    "# Creation of a MongoDB Client (by giving the host and the port)\n",
    "client = MongoClient(host=\"localhost\", port=27017)\n",
    "\n",
    "# Instantiation of the database\n",
    "db = client[\"becode\"]\n",
    "\n",
    "# Let's see which collections are in the database\n",
    "db.list_collection_names()"
   ]
  },
  {
   "cell_type": "code",
   "execution_count": 2,
   "metadata": {},
   "outputs": [
    {
     "name": "stdout",
     "output_type": "stream",
     "text": [
      "4.8.0\n"
     ]
    }
   ],
   "source": [
    "import pymongo\n",
    "\n",
    "# Check the version to ensure it's installed\n",
    "print(pymongo.__version__)\n"
   ]
  },
  {
   "cell_type": "markdown",
   "metadata": {},
   "source": [
    "### Basic Queries"
   ]
  },
  {
   "cell_type": "markdown",
   "metadata": {},
   "source": [
    "**1. Show the first leader of the `leaders` collection by using the `find_one` method**\n",
    "\n",
    "The corresponding `SQL` query would be:\n",
    "\n",
    "```sql\n",
    "SELECT * FROM leaders LIMIT 1;\n",
    "```"
   ]
  },
  {
   "cell_type": "code",
   "execution_count": 3,
   "metadata": {},
   "outputs": [
    {
     "data": {
      "text/plain": [
       "{'_id': ObjectId('66bc85af9aed00ee6d04d88b'),\n",
       " 'id': 'Q7747',\n",
       " 'first_name': 'Vladimir',\n",
       " 'last_name': 'Putin',\n",
       " 'birth_date': '1952-10-07',\n",
       " 'death_date': None,\n",
       " 'place_of_birth': 'Saint Petersburg',\n",
       " 'wikipedia_url': 'https://ru.wikipedia.org/wiki/%D0%9F%D1%83%D1%82%D0%B8%D0%BD,_%D0%92%D0%BB%D0%B0%D0%B4%D0%B8%D0%BC%D0%B8%D1%80_%D0%92%D0%BB%D0%B0%D0%B4%D0%B8%D0%BC%D0%B8%D1%80%D0%BE%D0%B2%D0%B8%D1%87',\n",
       " 'start_mandate': '2000-05-07',\n",
       " 'end_mandate': '2008-05-07',\n",
       " 'country': 'ru'}"
      ]
     },
     "execution_count": 3,
     "metadata": {},
     "output_type": "execute_result"
    }
   ],
   "source": [
    "db[\"leaders\"].find_one()"
   ]
  },
  {
   "cell_type": "markdown",
   "metadata": {},
   "source": [
    "**2. Show the first leader of the collection whose country is Belgium**\n",
    "\n",
    "To that purpose we will use the query as first parameter of the `find_one` function. The query is formatted as a dictionary.\n",
    "\n",
    "In SQL it would be like adding a `WHERE` condition to the query:\n",
    "\n",
    "```sql\n",
    "SELECT * FROM leaders WHERE country = 'be' LIMIT 1;\n",
    "```"
   ]
  },
  {
   "cell_type": "code",
   "execution_count": 7,
   "metadata": {},
   "outputs": [
    {
     "data": {
      "text/plain": [
       "{'_id': ObjectId('64da27087c3cf3ff960cd986'),\n",
       " 'id': 'Q12981',\n",
       " 'first_name': 'Yves',\n",
       " 'last_name': 'Leterme',\n",
       " 'birth_date': '1960-10-06',\n",
       " 'death_date': None,\n",
       " 'place_of_birth': 'Wervik',\n",
       " 'wikipedia_url': 'https://nl.wikipedia.org/wiki/Yves_Leterme',\n",
       " 'start_mandate': '2009-11-25',\n",
       " 'end_mandate': '2011-12-06',\n",
       " 'country': 'be'}"
      ]
     },
     "execution_count": 7,
     "metadata": {},
     "output_type": "execute_result"
    }
   ],
   "source": [
    "db[\"leaders\"].find_one({\"country\": \"be\"})"
   ]
  },
  {
   "cell_type": "markdown",
   "metadata": {},
   "source": [
    "**3. Select some fields to display**\n",
    "\n",
    "Let's use the same query by displaying only the `first_name` and the `last_name` of the leader. It corresponds to a `SELECT` in SQL.\n",
    "\n",
    "We will use the [project](https://www.mongodb.com/docs/manual/tutorial/project-fields-from-query-results/) as the second parameter of the function. It is also formatted as a dictionary whose the key contains the targeted field and the value is `1` if we want the field to be displayed\n",
    "\n",
    "The corresponding SQL query would be:\n",
    "\n",
    "```sql\n",
    "SELECT first_name, last_name FROM leaders WHERE country = 'be' LIMIT 1;\n",
    "```"
   ]
  },
  {
   "cell_type": "code",
   "execution_count": 8,
   "metadata": {},
   "outputs": [
    {
     "data": {
      "text/plain": [
       "{'_id': ObjectId('64da27087c3cf3ff960cd986'),\n",
       " 'first_name': 'Yves',\n",
       " 'last_name': 'Leterme'}"
      ]
     },
     "execution_count": 8,
     "metadata": {},
     "output_type": "execute_result"
    }
   ],
   "source": [
    "db[\"leaders\"].find_one({\"country\": \"be\"}, {\"first_name\": 1, \"last_name\": 1})"
   ]
  },
  {
   "cell_type": "markdown",
   "metadata": {},
   "source": [
    "We can also decide to not display a field. In that case we put `0` as value for the dictionary."
   ]
  },
  {
   "cell_type": "code",
   "execution_count": 9,
   "metadata": {},
   "outputs": [
    {
     "data": {
      "text/plain": [
       "{'_id': ObjectId('64da27087c3cf3ff960cd986'),\n",
       " 'first_name': 'Yves',\n",
       " 'last_name': 'Leterme',\n",
       " 'birth_date': '1960-10-06',\n",
       " 'death_date': None,\n",
       " 'place_of_birth': 'Wervik',\n",
       " 'start_mandate': '2009-11-25',\n",
       " 'end_mandate': '2011-12-06',\n",
       " 'country': 'be'}"
      ]
     },
     "execution_count": 9,
     "metadata": {},
     "output_type": "execute_result"
    }
   ],
   "source": [
    "db[\"leaders\"].find_one({\"country\": \"be\"}, {\"wikipedia_url\": 0, \"id\": 0})"
   ]
  },
  {
   "cell_type": "markdown",
   "metadata": {},
   "source": [
    "**4. Find the distinct countries**\n",
    "\n",
    "The SQL equivalent:\n",
    "\n",
    "```sql\n",
    "SELECT DISTINCT country FROM leaders;\n",
    "```"
   ]
  },
  {
   "cell_type": "code",
   "execution_count": 10,
   "metadata": {},
   "outputs": [
    {
     "data": {
      "text/plain": [
       "['be', 'fr', 'ma', 'ru', 'us']"
      ]
     },
     "execution_count": 10,
     "metadata": {},
     "output_type": "execute_result"
    }
   ],
   "source": [
    "db[\"leaders\"].find().distinct(\"country\")"
   ]
  },
  {
   "cell_type": "markdown",
   "metadata": {},
   "source": [
    "**5. Find all the leaders who are still alive**\n",
    "\n",
    "We can assume that they have no `death_date`, isn't?"
   ]
  },
  {
   "cell_type": "code",
   "execution_count": 12,
   "metadata": {},
   "outputs": [
    {
     "data": {
      "text/plain": [
       "<pymongo.cursor.Cursor at 0x228d5532e50>"
      ]
     },
     "execution_count": 12,
     "metadata": {},
     "output_type": "execute_result"
    }
   ],
   "source": [
    "db[\"leaders\"].find({\"death_date\": None}, {\"last_name\":1, \"first_name\":1, \"country\":1})"
   ]
  },
  {
   "cell_type": "markdown",
   "metadata": {},
   "source": [
    "As you see the `find` command returns a cursor. No worries we can process it by using a simple Python loop!"
   ]
  },
  {
   "cell_type": "code",
   "execution_count": 13,
   "metadata": {},
   "outputs": [
    {
     "name": "stdout",
     "output_type": "stream",
     "text": [
      "Vladimir Putin (ru)\n",
      "Mohammed None (ma)\n",
      "Dmitry Medvedev (ru)\n",
      "Mohammed None (ma)\n",
      "Mohammed None (ma)\n",
      "Barack Obama (us)\n",
      "Joe Biden (us)\n",
      "Bill Clinton (us)\n",
      "George Bush (us)\n",
      "Donald Trump (us)\n",
      "Jimmy Carter (us)\n",
      "Yves Leterme (be)\n",
      "Herman Van Rompaey (be)\n",
      "Guy Verhofstadt (be)\n",
      "Elio Di Rupo (be)\n",
      "Alexander De Croo (be)\n",
      "Mark Eyskens (be)\n",
      "Sophie Wilmès (be)\n",
      "François Hollande (fr)\n",
      "Nicolas Sarkozy (fr)\n",
      "Charles Michel (be)\n",
      "Emmanuel Macron (fr)\n"
     ]
    }
   ],
   "source": [
    "for leader in db[\"leaders\"].find({\"death_date\": None}, {\"last_name\":1, \"first_name\":1, \"country\":1}):\n",
    "    print(f\"{leader['first_name']} {leader['last_name']} ({leader['country']})\")"
   ]
  },
  {
   "cell_type": "markdown",
   "metadata": {},
   "source": [
    "**6. Let's now insert the leader of tomorrow: you?**\n",
    "\n",
    "As you know, MongoDB is flexible. It means that you can add entries although some fields are missing. Let's give a try:"
   ]
  },
  {
   "cell_type": "code",
   "execution_count": 14,
   "metadata": {},
   "outputs": [
    {
     "data": {
      "text/plain": [
       "<pymongo.results.InsertOneResult at 0x228d4301450>"
      ]
     },
     "execution_count": 14,
     "metadata": {},
     "output_type": "execute_result"
    }
   ],
   "source": [
    "you = {\n",
    "    'first_name': 'ADD HERE YOUR FIRST NAME',\n",
    "    'last_name': 'ADD HERE YOUR LAST NAME',\n",
    "    'birth_date': 'ADD HERE YOUR BIRTH DATE',\n",
    "    'country': 'ADD HERE YOUR COUNTRY CODE'\n",
    "}\n",
    "db[\"leaders\"].insert_one(you)"
   ]
  },
  {
   "cell_type": "markdown",
   "metadata": {},
   "source": [
    "Let's have a look to your data!"
   ]
  },
  {
   "cell_type": "code",
   "execution_count": 15,
   "metadata": {},
   "outputs": [
    {
     "data": {
      "text/plain": [
       "{'_id': ObjectId('64da27ea17ab33d0790aedb2'),\n",
       " 'first_name': 'ADD HERE YOUR FIRST NAME',\n",
       " 'last_name': 'ADD HERE YOUR LAST NAME',\n",
       " 'birth_date': 'ADD HERE YOUR BIRTH DATE',\n",
       " 'country': 'ADD HERE YOUR COUNTRY CODE'}"
      ]
     },
     "execution_count": 15,
     "metadata": {},
     "output_type": "execute_result"
    }
   ],
   "source": [
    "db[\"leaders\"].find_one({\"first_name\": \"ADD HERE YOUR FIRST NAME\"})"
   ]
  },
  {
   "cell_type": "markdown",
   "metadata": {},
   "source": [
    "We can observe two things here:\n",
    "- A field `_id` has been automatically added by Mongo. This field is incremental. That means that it will always be higher than the previous element of the collection.\n",
    "- Some fields are missing (the `place_of_birth` for instance). This is a property of NoSQL. All fields are not mandatory!\n",
    "\n",
    "We can check missing values by using the query `{\"$exists\":False}`:"
   ]
  },
  {
   "cell_type": "code",
   "execution_count": 16,
   "metadata": {},
   "outputs": [
    {
     "name": "stdout",
     "output_type": "stream",
     "text": [
      "{'_id': ObjectId('64da27ea17ab33d0790aedb2'), 'first_name': 'ADD HERE YOUR FIRST NAME', 'last_name': 'ADD HERE YOUR LAST NAME', 'birth_date': 'ADD HERE YOUR BIRTH DATE', 'country': 'ADD HERE YOUR COUNTRY CODE'}\n"
     ]
    }
   ],
   "source": [
    "for leader in db[\"leaders\"].find({\"place_of_birth\":{\"$exists\":False}}):\n",
    "    print(leader)"
   ]
  },
  {
   "cell_type": "markdown",
   "metadata": {},
   "source": [
    "### Update data\n",
    "\n",
    "Since your place of birth is missing in the data, let's add it now. The update function has two main arguments:\n",
    "- a query that will select the entries to update\n",
    "- an update operation. As always, it is formatted as a dictionary"
   ]
  },
  {
   "cell_type": "code",
   "execution_count": 17,
   "metadata": {},
   "outputs": [
    {
     "data": {
      "text/plain": [
       "<pymongo.results.UpdateResult at 0x228d551e800>"
      ]
     },
     "execution_count": 17,
     "metadata": {},
     "output_type": "execute_result"
    }
   ],
   "source": [
    "db[\"leaders\"].update_one({\"first_name\": \"ADD HERE YOUR FIRST NAME\"}, {\"$set\": {\"place_of_birth\": \"ADD HERE YOUR PLACE OF BIRTH\"}})"
   ]
  },
  {
   "cell_type": "markdown",
   "metadata": {},
   "source": [
    "#### Remove data\n",
    "\n",
    "Your dream is over ;-) Since you will not be a leader of tomorrow, we will remove you from the collection. The `delete` (or `delete_one`) function has one main argument: the query that will select the entries to be removed."
   ]
  },
  {
   "cell_type": "code",
   "execution_count": 18,
   "metadata": {},
   "outputs": [
    {
     "data": {
      "text/plain": [
       "<pymongo.results.DeleteResult at 0x228d3286890>"
      ]
     },
     "execution_count": 18,
     "metadata": {},
     "output_type": "execute_result"
    }
   ],
   "source": [
    "db[\"leaders\"].delete_one({\"first_name\": \"ADD HERE YOUR FIRST NAME\"})"
   ]
  },
  {
   "cell_type": "markdown",
   "metadata": {},
   "source": [
    "## Your Turn!\n",
    "\n",
    "Based on your knowledge and some Google search try to create the following queries:\n",
    "\n",
    "- Remove the leaders who have an empty or null (`None`) last name\n",
    "- Display all unique first names from the collection\n",
    "- Transform all the dates of the dataset by a datetime object (they are currently strings which is not a good practice). You can use a python script that interacts with the DB instead of doing everything in a single query\n",
    "- Display the 10 older leaders ordered by their birth date (search for how to sort and to use limits in MongoDB)\n",
    "- Create a Python script that computes the numbers of leaders by country\n",
    "- Do the same by using a MongoDB [aggregation pipeline](https://www.mongodb.com/docs/manual/aggregation/)"
   ]
  },
  {
   "cell_type": "markdown",
   "metadata": {},
   "source": [
    "1. Remove the leaders who have an empty or null (None) last name"
   ]
  },
  {
   "cell_type": "code",
   "execution_count": null,
   "metadata": {},
   "outputs": [],
   "source": [
    "from pymongo import MongoClient\n",
    "\n",
    "# Establish MongoDB connection\n",
    "client = MongoClient(host=\"localhost\", port=27017)\n",
    "db = client[\"becode\"]\n",
    "leaders_collection = db[\"leaders\"]\n",
    "\n",
    "# Remove leaders with an empty or null last name\n",
    "leaders_collection.delete_many({\"last_name\": {\"$in\": [None, \"\"]}})\n"
   ]
  },
  {
   "cell_type": "markdown",
   "metadata": {},
   "source": [
    "2. Display all unique first names from the collection"
   ]
  },
  {
   "cell_type": "code",
   "execution_count": null,
   "metadata": {},
   "outputs": [],
   "source": [
    "# Display all unique first names\n",
    "unique_first_names = leaders_collection.distinct(\"first_name\")\n",
    "print(unique_first_names)\n"
   ]
  },
  {
   "cell_type": "markdown",
   "metadata": {},
   "source": [
    "3. Transform all the dates of the dataset by a datetime object (they are currently strings which is not a good practice). You can use a python script that interacts with the DB instead of doing everything in a single query"
   ]
  },
  {
   "cell_type": "code",
   "execution_count": null,
   "metadata": {},
   "outputs": [],
   "source": [
    "from datetime import datetime\n",
    "\n",
    "# Function to convert string to datetime\n",
    "def convert_to_datetime(date_string):\n",
    "    try:\n",
    "        return datetime.strptime(date_string, \"%Y-%m-%d\")\n",
    "    except:\n",
    "        return None\n",
    "\n",
    "# Update all leaders' birth_date and death_date fields\n",
    "for leader in leaders_collection.find({\"birth_date\": {\"$type\": \"string\"}}):\n",
    "    birth_date = convert_to_datetime(leader[\"birth_date\"])\n",
    "    death_date = convert_to_datetime(leader.get(\"death_date\", None))\n",
    "    \n",
    "    leaders_collection.update_one({\"_id\": leader[\"_id\"]}, {\"$set\": {\"birth_date\": birth_date, \"death_date\": death_date}})\n"
   ]
  },
  {
   "cell_type": "markdown",
   "metadata": {},
   "source": [
    "4. Display the 10 older leaders ordered by their birth date (search for how to sort and to use limits in MongoDB)"
   ]
  },
  {
   "cell_type": "code",
   "execution_count": null,
   "metadata": {},
   "outputs": [],
   "source": [
    "# Display the 10 oldest leaders\n",
    "oldest_leaders = leaders_collection.find().sort(\"birth_date\", 1).limit(10)\n",
    "for leader in oldest_leaders:\n",
    "    print(f\"{leader['first_name']} {leader['last_name']} - {leader['birth_date']}\")\n"
   ]
  },
  {
   "cell_type": "markdown",
   "metadata": {},
   "source": [
    "5. Create a Python script that computes the numbers of leaders by country"
   ]
  },
  {
   "cell_type": "code",
   "execution_count": null,
   "metadata": {},
   "outputs": [],
   "source": [
    "# Compute the number of leaders by country\n",
    "leaders_by_country = leaders_collection.aggregate([\n",
    "    {\"$group\": {\"_id\": \"$country\", \"count\": {\"$sum\": 1}}}\n",
    "])\n",
    "\n",
    "for country in leaders_by_country:\n",
    "    print(f\"Country: {country['_id']}, Number of Leaders: {country['count']}\")\n"
   ]
  },
  {
   "cell_type": "markdown",
   "metadata": {},
   "source": [
    "6. Do the same by using a MongoDB aggregation pipeline"
   ]
  },
  {
   "cell_type": "code",
   "execution_count": null,
   "metadata": {},
   "outputs": [],
   "source": [
    "# Aggregation pipeline to compute the number of leaders by country\n",
    "pipeline = [\n",
    "    {\"$group\": {\"_id\": \"$country\", \"count\": {\"$sum\": 1}}},\n",
    "    {\"$sort\": {\"count\": -1}}\n",
    "]\n",
    "\n",
    "leaders_by_country_pipeline = list(leaders_collection.aggregate(pipeline))\n",
    "for result in leaders_by_country_pipeline:\n",
    "    print(f\"Country: {result['_id']}, Number of Leaders: {result['count']}\")\n"
   ]
  },
  {
   "cell_type": "code",
   "execution_count": null,
   "metadata": {},
   "outputs": [],
   "source": [
    "# Your code here (feel free to add some extra code blocks!)"
   ]
  },
  {
   "cell_type": "markdown",
   "metadata": {},
   "source": [
    "## Resources:\n",
    "* [NoSQL Concepts (DataCamp)](https://www.datacamp.com/courses/nosql-concepts)\n",
    "* [Introduction to MongoDB using Python (DataCamp)](https://www.datacamp.com/courses/introduction-to-using-mongodb-for-data-science-with-python)\n",
    "* [Getting started with MongoDB](https://docs.mongodb.com/manual/tutorial/)\n",
    "* [Python MongoDB Tutorial](https://www.mongodb.com/blog/post/getting-started-with-python-and-mongodb)\n",
    "* [Introduction to MongoDB Learning Path](https://learn.mongodb.com/learning-paths/introduction-to-mongodb)\n",
    "* [Build an App With Python, Flask, and MongoDB to Track UFOs](https://www.mongodb.com/developer/languages/python/flask-app-ufo-tracking/)"
   ]
  }
 ],
 "metadata": {
  "kernelspec": {
   "display_name": "Python 3 (ipykernel)",
   "language": "python",
   "name": "python3"
  },
  "language_info": {
   "codemirror_mode": {
    "name": "ipython",
    "version": 3
   },
   "file_extension": ".py",
   "mimetype": "text/x-python",
   "name": "python",
   "nbconvert_exporter": "python",
   "pygments_lexer": "ipython3",
   "version": "3.12.5"
  },
  "vscode": {
   "interpreter": {
    "hash": "082e9a3bcad0a290d0001e938aa60b99250c6c2ef33a923c00b70f9826caf4b7"
   }
  }
 },
 "nbformat": 4,
 "nbformat_minor": 4
}
