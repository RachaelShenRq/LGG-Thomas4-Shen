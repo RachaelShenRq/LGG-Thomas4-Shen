{
 "cells": [
  {
   "cell_type": "markdown",
   "metadata": {
    "id": "UGmFF6jc3L3q"
   },
   "source": [
    "# SQL Alchemy: Drill\n",
    "\n",
    "We will create a small database that contains quotes from authors and the name of the author. For this exercise, we will use `SQLite` which is very easy to implement. But don't forget that the advantage of ORMs is that they can be used in the same way, no matter what the database."
   ]
  },
  {
   "cell_type": "markdown",
   "metadata": {
    "id": "6mlY8-GS48_p"
   },
   "source": [
    "## What Is SQLite?  \n",
    "\n",
    "[SQLite](https://www.sqlite.org/index.html) is a C-language library that implements a small, fast, self-contained, high-reliability, full-featured, SQL database engine. SQLite is the most used database engine in the world. It is built into all mobile phones and most computers and comes bundled inside countless other applications that people use every day."
   ]
  },
  {
   "cell_type": "markdown",
   "metadata": {
    "id": "139VJ7Jr5uhL"
   },
   "source": [
    "The imports: <p style=\"color:red;\"><b >⚠️ You must have SQL_Alchemy version 1.4 or higher</b></p>\n",
    "\n",
    "We have already imported some helpful modules to approach the drill. Don't forget to check the documentation to review some of them as needed. "
   ]
  },
  {
   "cell_type": "code",
   "execution_count": 29,
   "metadata": {
    "id": "Bv03iT3758eQ"
   },
   "outputs": [],
   "source": [
    "#!pip install sqlalchemy==1.4"
   ]
  },
  {
   "cell_type": "code",
   "execution_count": 30,
   "metadata": {
    "id": "XXUNjQ0jiy65"
   },
   "outputs": [],
   "source": [
    "from sqlalchemy import create_engine\n",
    "import datetime as dt\n",
    "from sqlalchemy import Column, Date, Integer, Text, create_engine, inspect\n",
    "from sqlalchemy.orm import sessionmaker"
   ]
  },
  {
   "cell_type": "markdown",
   "metadata": {
    "id": "ylb0QujzdsUm"
   },
   "source": [
    "## ORM configuration\n",
    "---"
   ]
  },
  {
   "cell_type": "markdown",
   "metadata": {
    "id": "0oSJE3yCZ9zS"
   },
   "source": [
    "**1. Create an `engine` variable that contains an instance of `create_engine()`.**  \n",
    " \n",
    "You must specify the type of database, in this case sqlite, and specify the path to the database `/content/data.db`. *(You can put the path you want if you don't use Google Colab)* `create_engine()` will create the data.db file if it does not exist.**1. 创建一个包含 `create_engine()` 实例的 `engine` 变量。 \n",
    " \n",
    "你必须指定数据库类型，在本例中是 sqlite，并指定数据库`/content/data.db`的路径。*如果没有 data.db 文件，create_engine()` 将创建该文件。"
   ]
  },
  {
   "cell_type": "code",
   "execution_count": 31,
   "metadata": {
    "id": "lT1hwcOpP8IY"
   },
   "outputs": [],
   "source": [
    "# Your code here\n",
    "from sqlalchemy import create_engine\n",
    "\n",
    "# Create an engine variable\n",
    "engine = create_engine('sqlite:///data.db')\n"
   ]
  },
  {
   "cell_type": "markdown",
   "metadata": {
    "id": "UTRefMob2CDy"
   },
   "source": [
    "**2. Create a `mapper_registry` variable which contains an instance of `registry()`.**"
   ]
  },
  {
   "cell_type": "code",
   "execution_count": 32,
   "metadata": {},
   "outputs": [],
   "source": [
    "# Your code here\n",
    "from sqlalchemy.orm import registry, mapped_column\n",
    "from sqlalchemy import Column, Integer, String\n",
    "\n",
    "# Step 1: Create the registry\n",
    "mapper_registry = registry()\n",
    "\n",
    "# Step 2: Define your mapped class using the mapper_registry\n",
    "@mapper_registry.mapped\n",
    "class User:\n",
    "    __tablename__ = 'user'\n",
    "    \n",
    "    id = mapped_column(Integer, primary_key=True)\n",
    "    name = mapped_column(String)\n",
    "    fullname = mapped_column(String)\n",
    "    nickname = mapped_column(String)\n"
   ]
  },
  {
   "cell_type": "markdown",
   "metadata": {
    "id": "wxWjmbZAa3gq"
   },
   "source": [
    "**3. Create a `Base` variable which contains an instance of `mapper_registry.generate_base()`.**  \n",
    "\n",
    "This method allows to manage and create the models that we will use later."
   ]
  },
  {
   "cell_type": "code",
   "execution_count": 33,
   "metadata": {
    "id": "jMvofMmmP_7D"
   },
   "outputs": [],
   "source": [
    "# Your code here\n",
    "from sqlalchemy.orm import registry, mapped_column\n",
    "from sqlalchemy import Column, Integer, String\n",
    "\n",
    "# Step 1: Create the registry\n",
    "mapper_registry = registry()\n",
    "\n",
    "# Step 2: Generate the Base class\n",
    "Base = mapper_registry.generate_base()\n",
    "\n",
    "# Step 3: Define your mapped class using the Base class\n",
    "class User(Base):\n",
    "    __tablename__ = 'user'\n",
    "    \n",
    "    id = mapped_column(Integer, primary_key=True)\n",
    "    name = mapped_column(String)\n",
    "    fullname = mapped_column(String)\n",
    "    nickname = mapped_column(String)\n",
    "\n",
    "# Now `User` is a mapped class, inheriting from `Base`.\n"
   ]
  },
  {
   "cell_type": "markdown",
   "metadata": {
    "id": "pRe0HaEeb1sV"
   },
   "source": [
    "**4. Create a `Maker` variable that contains an instance of `sessionmaker()`.**  \n",
    "\n",
    "This class allows us to manage transactions with the database."
   ]
  },
  {
   "cell_type": "code",
   "execution_count": 34,
   "metadata": {
    "id": "Myb-10BVQHl9"
   },
   "outputs": [],
   "source": [
    "# Your code here\n",
    "from sqlalchemy import create_engine\n",
    "from sqlalchemy.orm import sessionmaker\n",
    "\n",
    "# Step 1: Create the database engine\n",
    "engine = create_engine('sqlite:///MyDataBase.db', echo=True)\n",
    "\n",
    "# Step 2: Create a configured \"Session\" class\n",
    "Maker = sessionmaker(bind=engine)\n",
    "\n",
    "# Step 3: Create a session instance\n",
    "session = Maker()\n",
    "\n",
    "# Now `session` can be used to interact with the database, and `Maker` can create more sessions if needed.\n"
   ]
  },
  {
   "cell_type": "markdown",
   "metadata": {
    "id": "6Xhdtl4Jb6w2"
   },
   "source": [
    "**5. Create a `session` variable.**  \n",
    "\n",
    "This variable contains an instance of `Maker` with the parameter `bind` which has the value `engine`."
   ]
  },
  {
   "cell_type": "code",
   "execution_count": 35,
   "metadata": {
    "id": "q86kcOp0QtgG"
   },
   "outputs": [],
   "source": [
    "# Your code here\n",
    "from sqlalchemy import create_engine\n",
    "from sqlalchemy.orm import sessionmaker\n",
    "\n",
    "# Step 1: Create the database engine\n",
    "engine = create_engine('sqlite:///MyDataBase.db', echo=True)\n",
    "\n",
    "# Step 2: Create a configured \"Session\" class\n",
    "Maker = sessionmaker(bind=engine)\n",
    "\n",
    "# Step 3: Create the session instance with the engine bound to it\n",
    "session = Maker()\n",
    "\n",
    "# Now `session` can be used to interact with the database.\n"
   ]
  },
  {
   "cell_type": "markdown",
   "metadata": {
    "id": "VY9PhgFedzF8"
   },
   "source": [
    "## Creation of the model\n",
    "---"
   ]
  },
  {
   "cell_type": "markdown",
   "metadata": {
    "id": "eoDyzNBcYfJk"
   },
   "source": [
    "**6. Create a `class Quotation` which inherits from the previously created `Base` class.**\n",
    "\n",
    "This class will have 4 attributes: \n",
    "\n",
    "- **\\_\\_tablename\\_\\_**: which contains the name of the `quotation` table that we are going to use.\n",
    "\n",
    "- **id**: which has the method `Column`. This column will be an `Integer` attribute and will have the `primary_key` attribute set to `True`\n",
    "\n",
    "- **quote_quotation**: which has the method `Column` which will have an attribute `Text` and the attribute `nullable` set to `False`\n",
    "\n",
    "- **quote_author**: which has the `Column` method and will have a `Text` attribute and the `nullable` attribute set to `False`\n",
    "\n"
   ]
  },
  {
   "cell_type": "code",
   "execution_count": 36,
   "metadata": {
    "id": "h-wbmi-eT6iv"
   },
   "outputs": [],
   "source": [
    "# Your code\n",
    "from sqlalchemy import Column, Integer, Text\n",
    "\n",
    "# Step 1: Create the Quotation class\n",
    "class Quotation(Base):\n",
    "    __tablename__ = 'quotation'  # The name of the table in the database\n",
    "\n",
    "    # Step 2: Define the columns\n",
    "    id = Column(Integer, primary_key=True)  # Primary key column\n",
    "    quote_quotation = Column(Text, nullable=False)  # Text column for the quotation, cannot be null\n",
    "    quote_author = Column(Text, nullable=False)  # Text column for the author, cannot be null\n",
    "\n",
    "    def __repr__(self):\n",
    "        return f\"<Quotation(id={self.id}, quote_quotation={self.quote_quotation}, quote_author={self.quote_author})>\"\n"
   ]
  },
  {
   "cell_type": "markdown",
   "metadata": {
    "id": "ptgjvCWkpvjt"
   },
   "source": [
    "**7. Create the table using the method `Base.metadata.create_all()`.**  \n",
    "Assign the `engine` value to the bind `parameter`."
   ]
  },
  {
   "cell_type": "code",
   "execution_count": 37,
   "metadata": {},
   "outputs": [],
   "source": [
    "from sqlalchemy import create_engine\n",
    "\n",
    "# Create an engine with a timeout to handle locks\n",
    "engine = create_engine('sqlite:///MyDataBase.db', connect_args={'timeout': 10})\n"
   ]
  },
  {
   "cell_type": "code",
   "execution_count": 38,
   "metadata": {},
   "outputs": [],
   "source": [
    "# Assuming Base and engine are already defined\n",
    "\n",
    "# Create the table using Base.metadata.create_all() method\n",
    "Base.metadata.create_all(bind=engine)\n"
   ]
  },
  {
   "cell_type": "code",
   "execution_count": 39,
   "metadata": {
    "id": "lKrneBSppt3M"
   },
   "outputs": [],
   "source": [
    "# Your code\n",
    "# Step 1: Ensure the engine is defined (assuming it's already created earlier)\n",
    "# from sqlalchemy import create_engine\n",
    "# engine = create_engine('sqlite:///your_database_name.db')\n",
    "\n",
    "# Step 2: Create the table using Base.metadata.create_all() method\n",
    "Base.metadata.create_all(bind=engine)\n"
   ]
  },
  {
   "cell_type": "markdown",
   "metadata": {
    "id": "6WagPpwseVEz"
   },
   "source": [
    "## The transactions\n",
    "---\n",
    "\n",
    "### Create"
   ]
  },
  {
   "cell_type": "markdown",
   "metadata": {
    "id": "fEhrlDXGeat9"
   },
   "source": [
    "**8. Create a varible `new_quotation` that contains an instance of `Quotation`.** \n",
    "\n",
    "For the `quote_quotation` parameter assign the following sentence:\n",
    "> “The world as we have created it is a process of our thinking. It cannot be changed without changing our thinking.”\n",
    "\n",
    "For the parameter `quote_author` assign the value *'Albert Einstein'*"
   ]
  },
  {
   "cell_type": "code",
   "execution_count": 40,
   "metadata": {
    "id": "9aQCVKrKf0lk"
   },
   "outputs": [
    {
     "name": "stdout",
     "output_type": "stream",
     "text": [
      "<Quotation(id=None, quote_quotation=The world as we have created it is a process of our thinking. It cannot be changed without changing our thinking., quote_author=Albert Einstein)>\n"
     ]
    }
   ],
   "source": [
    "# Your code \n",
    "# Step 1: Import the necessary class\n",
    "# from your_module import Quotation  # Adjust import according to your setup\n",
    "\n",
    "# Step 2: Create an instance of the Quotation class\n",
    "new_quotation = Quotation(\n",
    "    quote_quotation=\"The world as we have created it is a process of our thinking. It cannot be changed without changing our thinking.\",\n",
    "    quote_author=\"Albert Einstein\"\n",
    ")\n",
    "\n",
    "# Verify the created instance\n",
    "print(new_quotation)\n"
   ]
  },
  {
   "cell_type": "markdown",
   "metadata": {
    "id": "fHgjox4_gRM8"
   },
   "source": [
    "**9. You will have to add the transaction. To do this, use the `session.add() ` method with `new_quotation` as argument.**"
   ]
  },
  {
   "cell_type": "code",
   "execution_count": 12,
   "metadata": {
    "id": "q3ffj9oTf48Y"
   },
   "outputs": [],
   "source": [
    "# Your code\n",
    "# 1. Define the Quotation Class\n",
    "# You should have already defined the Quotation class. If not, make sure it looks like this:\n",
    "from sqlalchemy import Column, Integer, Text\n",
    "from sqlalchemy.orm import registry\n",
    "\n",
    "# Step 2: Create mapper_registry\n",
    "mapper_registry = registry()\n",
    "\n",
    "# Step 3: Create Base using mapper_registry\n",
    "Base = mapper_registry.generate_base()\n",
    "\n",
    "# Step 6: Define the Quotation class\n",
    "class Quotation(Base):\n",
    "    __tablename__ = 'quotation'\n",
    "    \n",
    "    id = Column(Integer, primary_key=True)\n",
    "    quote_quotation = Column(Text, nullable=False)\n",
    "    quote_author = Column(Text, nullable=False)\n",
    " "
   ]
  },
  {
   "cell_type": "code",
   "execution_count": 13,
   "metadata": {},
   "outputs": [],
   "source": [
    "# 2. Create an Instance of Quotation\n",
    "# Create a Quotation instance with the desired data:\n",
    "new_quotation = Quotation(\n",
    "    quote_quotation=\"The world as we have created it is a process of our thinking. It cannot be changed without changing our thinking.\",\n",
    "    quote_author=\"Albert Einstein\"\n",
    ")\n"
   ]
  },
  {
   "cell_type": "code",
   "execution_count": 14,
   "metadata": {},
   "outputs": [
    {
     "name": "stdout",
     "output_type": "stream",
     "text": [
      "Inserted Quotation ID: 1\n"
     ]
    }
   ],
   "source": [
    "# 3. Add and Commit the Transaction\n",
    "# Use a session to add and commit the new record:\n",
    "\n",
    "from sqlalchemy.orm import sessionmaker\n",
    "\n",
    "# Assuming engine is already created\n",
    "Session = sessionmaker(bind=engine)\n",
    "session = Session()\n",
    "\n",
    "# Add the new quotation to the session\n",
    "session.add(new_quotation)\n",
    "\n",
    "# Commit the transaction\n",
    "session.commit()\n",
    "\n",
    "# Optionally, print out the ID of the newly inserted quotation\n",
    "print(f\"Inserted Quotation ID: {new_quotation.id}\")\n"
   ]
  },
  {
   "cell_type": "markdown",
   "metadata": {},
   "source": [
    "Full Code Example\n",
    "Here is how everything fits together:"
   ]
  },
  {
   "cell_type": "code",
   "execution_count": 15,
   "metadata": {},
   "outputs": [
    {
     "name": "stdout",
     "output_type": "stream",
     "text": [
      "Inserted Quotation ID: 2\n"
     ]
    }
   ],
   "source": [
    "from sqlalchemy import create_engine, Column, Integer, Text\n",
    "from sqlalchemy.orm import sessionmaker, registry\n",
    "\n",
    "# Step 2: Create mapper_registry\n",
    "mapper_registry = registry()\n",
    "\n",
    "# Step 3: Create Base using mapper_registry\n",
    "Base = mapper_registry.generate_base()\n",
    "\n",
    "# Step 6: Define the Quotation class\n",
    "class Quotation(Base):\n",
    "    __tablename__ = 'quotation'\n",
    "    \n",
    "    id = Column(Integer, primary_key=True)\n",
    "    quote_quotation = Column(Text, nullable=False)\n",
    "    quote_author = Column(Text, nullable=False)\n",
    "\n",
    "# Step 7: Create the engine\n",
    "engine = create_engine('sqlite:///MyDataBase.db', connect_args={'timeout': 10})\n",
    "\n",
    "# Create the table\n",
    "Base.metadata.create_all(bind=engine)\n",
    "\n",
    "# Step 8: Create an instance of Quotation\n",
    "new_quotation = Quotation(\n",
    "    quote_quotation=\"The world as we have created it is a process of our thinking. It cannot be changed without changing our thinking.\",\n",
    "    quote_author=\"Albert Einstein\"\n",
    ")\n",
    "\n",
    "# Create a session\n",
    "Session = sessionmaker(bind=engine)\n",
    "session = Session()\n",
    "\n",
    "# Add the new quotation to the session\n",
    "session.add(new_quotation)\n",
    "\n",
    "# Commit the transaction\n",
    "session.commit()\n",
    "\n",
    "# Optionally, print out the ID of the newly inserted quotation\n",
    "print(f\"Inserted Quotation ID: {new_quotation.id}\")\n"
   ]
  },
  {
   "cell_type": "markdown",
   "metadata": {
    "id": "lRBMGIzig3wD"
   },
   "source": [
    "**10. The transaction has been added but not yet executed. To finish the transaction, you must use the `session.commit()` method.**\n",
    "You don't have to pass any arguments."
   ]
  },
  {
   "cell_type": "code",
   "execution_count": 16,
   "metadata": {
    "id": "4HmA8K6Gg4cd"
   },
   "outputs": [
    {
     "name": "stdout",
     "output_type": "stream",
     "text": [
      "Inserted Quotation ID: 3\n"
     ]
    }
   ],
   "source": [
    "# Your code\n",
    "from sqlalchemy import create_engine, Column, Integer, Text\n",
    "from sqlalchemy.orm import sessionmaker, registry\n",
    "\n",
    "# Step 2: Create mapper_registry\n",
    "mapper_registry = registry()\n",
    "\n",
    "# Step 3: Create Base using mapper_registry\n",
    "Base = mapper_registry.generate_base()\n",
    "\n",
    "# Step 6: Define the Quotation class\n",
    "class Quotation(Base):\n",
    "    __tablename__ = 'quotation'\n",
    "    \n",
    "    id = Column(Integer, primary_key=True)\n",
    "    quote_quotation = Column(Text, nullable=False)\n",
    "    quote_author = Column(Text, nullable=False)\n",
    "\n",
    "# Step 7: Create the engine\n",
    "engine = create_engine('sqlite:///MyDataBase.db', connect_args={'timeout': 10})\n",
    "\n",
    "# Create the table\n",
    "Base.metadata.create_all(bind=engine)\n",
    "\n",
    "# Step 8: Create an instance of Quotation\n",
    "new_quotation = Quotation(\n",
    "    quote_quotation=\"The world as we have created it is a process of our thinking. It cannot be changed without changing our thinking.\",\n",
    "    quote_author=\"Albert Einstein\"\n",
    ")\n",
    "\n",
    "# Create a session\n",
    "Session = sessionmaker(bind=engine)\n",
    "session = Session()\n",
    "\n",
    "# Add the new quotation to the session\n",
    "session.add(new_quotation)\n",
    "\n",
    "# Commit the transaction\n",
    "session.commit()\n",
    "\n",
    "# Optionally, print out the ID of the newly inserted quotation\n",
    "print(f\"Inserted Quotation ID: {new_quotation.id}\")\n"
   ]
  },
  {
   "cell_type": "markdown",
   "metadata": {
    "id": "DPW8bSAlhms7"
   },
   "source": [
    "**11. Add all these sentences to the database (use a single commit):**"
   ]
  },
  {
   "cell_type": "code",
   "execution_count": 17,
   "metadata": {
    "id": "kfaQ_gESh21a"
   },
   "outputs": [],
   "source": [
    "data = [\n",
    "    {\"author\": \"Oscar Wilde\", \"text\": \"Beauty is in the eyes of the beholder.\"},\n",
    "    {\"author\": \"Marcel Proust\", \"text\": \"Beauty is not in the colors, but in their harmony.\"},\n",
    "    {\"author\": \"Philippe Claudel\", \"text\": \"Each letter has a scent, each verb, a perfume. Each word diffuses in the memory a place and its fragrances. And the text that gradually weaves itself, with the combined hazards of the alphabet and remembrance, then becomes the wonderful river, a thousand times branched and fragrant, of our dreamed life, our lived life, our life to come, which in turn carries us away and reveals us.\"},\n",
    "    {\"author\": \"Tintin\", \"text\": \"That’s one small step for man, on giant leap for mankind.\"},\n",
    "    {\"author\": \"François Weyergans\", \"text\": \"A dream that is not interpreted is like a letter that is not read.\"},\n",
    "    {\"author\": \"Vincent Van Gogh\", \"text\": \"I dream my painting, then I paint my dream.\"},\n",
    "    {\"author\": \"Hugues de Saint-Victor\", \"text\": \"An idle young man is like a young bull without the yoke.\"},\n",
    "    {\"author\": \"George Bernard Shaw\", \"text\": \"Marriage is the story of a young man and a young girl who pick a flower and receive an avalanche on their heads.\"},\n",
    "    {\"author\": \"Alain Tastet\", \"text\": \"I never dream at night, my only dream is to be awake beside you...\"},\n",
    "    {\"author\": \"Oscar Wilde\", \"text\":\"Be yourself; everyone else is already taken.\"},\n",
    "    {\"author\": \"Alain Tastet\", \"text\":\"This is a false quote...\"}\n",
    "]"
   ]
  },
  {
   "cell_type": "code",
   "execution_count": 18,
   "metadata": {
    "id": "jXqCvLDij4bD"
   },
   "outputs": [
    {
     "name": "stdout",
     "output_type": "stream",
     "text": [
      "Inserted Quotation ID: 4\n",
      "Inserted Quotation ID: 5\n",
      "Inserted Quotation ID: 6\n",
      "Inserted Quotation ID: 7\n",
      "Inserted Quotation ID: 8\n",
      "Inserted Quotation ID: 9\n",
      "Inserted Quotation ID: 10\n",
      "Inserted Quotation ID: 11\n",
      "Inserted Quotation ID: 12\n",
      "Inserted Quotation ID: 13\n",
      "Inserted Quotation ID: 14\n"
     ]
    }
   ],
   "source": [
    "# Your code\n",
    "from sqlalchemy import create_engine, Column, Integer, Text\n",
    "from sqlalchemy.orm import sessionmaker, registry\n",
    "\n",
    "# Create mapper_registry\n",
    "mapper_registry = registry()\n",
    "\n",
    "# Create Base using mapper_registry\n",
    "Base = mapper_registry.generate_base()\n",
    "\n",
    "# Define the Quotation class\n",
    "class Quotation(Base):\n",
    "    __tablename__ = 'quotation'\n",
    "    \n",
    "    id = Column(Integer, primary_key=True)\n",
    "    quote_quotation = Column(Text, nullable=False)\n",
    "    quote_author = Column(Text, nullable=False)\n",
    "\n",
    "# Create the engine\n",
    "engine = create_engine('sqlite:///MyDataBase.db', connect_args={'timeout': 10})\n",
    "\n",
    "# Create the table\n",
    "Base.metadata.create_all(bind=engine)\n",
    "\n",
    "# Create a session\n",
    "Session = sessionmaker(bind=engine)\n",
    "session = Session()\n",
    "\n",
    "# Provided data\n",
    "data = [\n",
    "    {\"author\": \"Oscar Wilde\", \"text\": \"Beauty is in the eyes of the beholder.\"},\n",
    "    {\"author\": \"Marcel Proust\", \"text\": \"Beauty is not in the colors, but in their harmony.\"},\n",
    "    {\"author\": \"Philippe Claudel\", \"text\": \"Each letter has a scent, each verb, a perfume. Each word diffuses in the memory a place and its fragrances. And the text that gradually weaves itself, with the combined hazards of the alphabet and remembrance, then becomes the wonderful river, a thousand times branched and fragrant, of our dreamed life, our lived life, our life to come, which in turn carries us away and reveals us.\"},\n",
    "    {\"author\": \"Tintin\", \"text\": \"That’s one small step for man, on giant leap for mankind.\"},\n",
    "    {\"author\": \"François Weyergans\", \"text\": \"A dream that is not interpreted is like a letter that is not read.\"},\n",
    "    {\"author\": \"Vincent Van Gogh\", \"text\": \"I dream my painting, then I paint my dream.\"},\n",
    "    {\"author\": \"Hugues de Saint-Victor\", \"text\": \"An idle young man is like a young bull without the yoke.\"},\n",
    "    {\"author\": \"George Bernard Shaw\", \"text\": \"Marriage is the story of a young man and a young girl who pick a flower and receive an avalanche on their heads.\"},\n",
    "    {\"author\": \"Alain Tastet\", \"text\": \"I never dream at night, my only dream is to be awake beside you...\"},\n",
    "    {\"author\": \"Oscar Wilde\", \"text\":\"Be yourself; everyone else is already taken.\"},\n",
    "    {\"author\": \"Alain Tastet\", \"text\":\"This is a false quote...\"}\n",
    "]\n",
    "\n",
    "# Create instances of Quotation from data\n",
    "quotations = [Quotation(quote_quotation=item['text'], quote_author=item['author']) for item in data]\n",
    "\n",
    "# Add all quotations to the session\n",
    "session.add_all(quotations)\n",
    "\n",
    "# Commit the transaction\n",
    "session.commit()\n",
    "\n",
    "# Optionally, print out the IDs of the newly inserted quotations\n",
    "for quote in quotations:\n",
    "    print(f\"Inserted Quotation ID: {quote.id}\")\n"
   ]
  },
  {
   "cell_type": "markdown",
   "metadata": {
    "id": "hQFegS_cjRBF"
   },
   "source": [
    "### Read\n",
    "\n",
    "**12. Display all quotes and authors in this form: 'This is a quote' - Author**"
   ]
  },
  {
   "cell_type": "code",
   "execution_count": 19,
   "metadata": {
    "colab": {
     "base_uri": "https://localhost:8080/"
    },
    "id": "zioBwugkC_H3",
    "outputId": "0cdf1d0d-a7b4-45e8-ca22-58d97aaf30c4"
   },
   "outputs": [
    {
     "name": "stdout",
     "output_type": "stream",
     "text": [
      "'The world as we have created it is a process of our thinking. It cannot be changed without changing our thinking.' - Albert Einstein\n",
      "'The world as we have created it is a process of our thinking. It cannot be changed without changing our thinking.' - Albert Einstein\n",
      "'The world as we have created it is a process of our thinking. It cannot be changed without changing our thinking.' - Albert Einstein\n",
      "'Beauty is in the eyes of the beholder.' - Oscar Wilde\n",
      "'Beauty is not in the colors, but in their harmony.' - Marcel Proust\n",
      "'Each letter has a scent, each verb, a perfume. Each word diffuses in the memory a place and its fragrances. And the text that gradually weaves itself, with the combined hazards of the alphabet and remembrance, then becomes the wonderful river, a thousand times branched and fragrant, of our dreamed life, our lived life, our life to come, which in turn carries us away and reveals us.' - Philippe Claudel\n",
      "'That’s one small step for man, on giant leap for mankind.' - Tintin\n",
      "'A dream that is not interpreted is like a letter that is not read.' - François Weyergans\n",
      "'I dream my painting, then I paint my dream.' - Vincent Van Gogh\n",
      "'An idle young man is like a young bull without the yoke.' - Hugues de Saint-Victor\n",
      "'Marriage is the story of a young man and a young girl who pick a flower and receive an avalanche on their heads.' - George Bernard Shaw\n",
      "'I never dream at night, my only dream is to be awake beside you...' - Alain Tastet\n",
      "'Be yourself; everyone else is already taken.' - Oscar Wilde\n",
      "'This is a false quote...' - Alain Tastet\n"
     ]
    }
   ],
   "source": [
    "# Your code\n",
    "from sqlalchemy import create_engine\n",
    "from sqlalchemy.orm import sessionmaker\n",
    "\n",
    "# Create the engine and session (assuming the engine and session have been created previously)\n",
    "engine = create_engine('sqlite:///MyDataBase.db', connect_args={'timeout': 10})\n",
    "Session = sessionmaker(bind=engine)\n",
    "session = Session()\n",
    "\n",
    "# Query all quotes from the Quotation table\n",
    "quotes = session.query(Quotation).all()\n",
    "\n",
    "# Display quotes and authors in the desired format\n",
    "for quote in quotes:\n",
    "    print(f\"'{quote.quote_quotation}' - {quote.quote_author}\")\n"
   ]
  },
  {
   "cell_type": "markdown",
   "metadata": {},
   "source": [
    "Full Code Context\n",
    "Here’s a full context including setup, assuming the engine and Base are already set up as in previous steps:"
   ]
  },
  {
   "cell_type": "code",
   "execution_count": 20,
   "metadata": {},
   "outputs": [
    {
     "name": "stdout",
     "output_type": "stream",
     "text": [
      "'The world as we have created it is a process of our thinking. It cannot be changed without changing our thinking.' - Albert Einstein\n",
      "'The world as we have created it is a process of our thinking. It cannot be changed without changing our thinking.' - Albert Einstein\n",
      "'The world as we have created it is a process of our thinking. It cannot be changed without changing our thinking.' - Albert Einstein\n",
      "'Beauty is in the eyes of the beholder.' - Oscar Wilde\n",
      "'Beauty is not in the colors, but in their harmony.' - Marcel Proust\n",
      "'Each letter has a scent, each verb, a perfume. Each word diffuses in the memory a place and its fragrances. And the text that gradually weaves itself, with the combined hazards of the alphabet and remembrance, then becomes the wonderful river, a thousand times branched and fragrant, of our dreamed life, our lived life, our life to come, which in turn carries us away and reveals us.' - Philippe Claudel\n",
      "'That’s one small step for man, on giant leap for mankind.' - Tintin\n",
      "'A dream that is not interpreted is like a letter that is not read.' - François Weyergans\n",
      "'I dream my painting, then I paint my dream.' - Vincent Van Gogh\n",
      "'An idle young man is like a young bull without the yoke.' - Hugues de Saint-Victor\n",
      "'Marriage is the story of a young man and a young girl who pick a flower and receive an avalanche on their heads.' - George Bernard Shaw\n",
      "'I never dream at night, my only dream is to be awake beside you...' - Alain Tastet\n",
      "'Be yourself; everyone else is already taken.' - Oscar Wilde\n",
      "'This is a false quote...' - Alain Tastet\n"
     ]
    }
   ],
   "source": [
    "from sqlalchemy import create_engine, Column, Integer, Text\n",
    "from sqlalchemy.orm import sessionmaker, registry\n",
    "\n",
    "# Create mapper_registry\n",
    "mapper_registry = registry()\n",
    "\n",
    "# Create Base using mapper_registry\n",
    "Base = mapper_registry.generate_base()\n",
    "\n",
    "# Define the Quotation class\n",
    "class Quotation(Base):\n",
    "    __tablename__ = 'quotation'\n",
    "    \n",
    "    id = Column(Integer, primary_key=True)\n",
    "    quote_quotation = Column(Text, nullable=False)\n",
    "    quote_author = Column(Text, nullable=False)\n",
    "\n",
    "# Create the engine and session\n",
    "engine = create_engine('sqlite:///MyDataBase.db', connect_args={'timeout': 10})\n",
    "Session = sessionmaker(bind=engine)\n",
    "session = Session()\n",
    "\n",
    "# Query all quotes from the Quotation table\n",
    "quotes = session.query(Quotation).all()\n",
    "\n",
    "# Display quotes and authors in the desired format\n",
    "for quote in quotes:\n",
    "    print(f\"'{quote.quote_quotation}' - {quote.quote_author}\")\n"
   ]
  },
  {
   "cell_type": "markdown",
   "metadata": {
    "id": "NAsd9Zbsk73W"
   },
   "source": [
    "**13. Display the sentence with `id 8`.**"
   ]
  },
  {
   "cell_type": "code",
   "execution_count": 21,
   "metadata": {
    "id": "SujPf7qGlVsA"
   },
   "outputs": [
    {
     "name": "stdout",
     "output_type": "stream",
     "text": [
      "'A dream that is not interpreted is like a letter that is not read.' - François Weyergans\n"
     ]
    }
   ],
   "source": [
    "# Your code\n",
    "from sqlalchemy import create_engine\n",
    "from sqlalchemy.orm import sessionmaker\n",
    "\n",
    "# Create the engine and session (assuming the engine and session have been created previously)\n",
    "engine = create_engine('sqlite:///MyDataBase.db', connect_args={'timeout': 10})\n",
    "Session = sessionmaker(bind=engine)\n",
    "session = Session()\n",
    "\n",
    "# Query the quotation with id 8\n",
    "quote = session.query(Quotation).filter_by(id=8).first()\n",
    "\n",
    "# Display the quote and author\n",
    "if quote:\n",
    "    print(f\"'{quote.quote_quotation}' - {quote.quote_author}\")\n",
    "else:\n",
    "    print(\"Quote with id 8 not found.\")\n"
   ]
  },
  {
   "cell_type": "markdown",
   "metadata": {},
   "source": [
    "Full Code Context\n",
    "Here's the complete code with setup and query:"
   ]
  },
  {
   "cell_type": "code",
   "execution_count": 22,
   "metadata": {},
   "outputs": [
    {
     "name": "stdout",
     "output_type": "stream",
     "text": [
      "'A dream that is not interpreted is like a letter that is not read.' - François Weyergans\n"
     ]
    }
   ],
   "source": [
    "from sqlalchemy import create_engine, Column, Integer, Text\n",
    "from sqlalchemy.orm import sessionmaker, registry\n",
    "\n",
    "# Create mapper_registry\n",
    "mapper_registry = registry()\n",
    "\n",
    "# Create Base using mapper_registry\n",
    "Base = mapper_registry.generate_base()\n",
    "\n",
    "# Define the Quotation class\n",
    "class Quotation(Base):\n",
    "    __tablename__ = 'quotation'\n",
    "    \n",
    "    id = Column(Integer, primary_key=True)\n",
    "    quote_quotation = Column(Text, nullable=False)\n",
    "    quote_author = Column(Text, nullable=False)\n",
    "\n",
    "# Create the engine and session\n",
    "engine = create_engine('sqlite:///MyDataBase.db', connect_args={'timeout': 10})\n",
    "Session = sessionmaker(bind=engine)\n",
    "session = Session()\n",
    "\n",
    "# Query the quotation with id 8\n",
    "quote = session.query(Quotation).filter_by(id=8).first()\n",
    "\n",
    "# Display the quote and author\n",
    "if quote:\n",
    "    print(f\"'{quote.quote_quotation}' - {quote.quote_author}\")\n",
    "else:\n",
    "    print(\"Quote with id 8 not found.\")\n"
   ]
  },
  {
   "cell_type": "markdown",
   "metadata": {
    "id": "Tub_Iin4lWNh"
   },
   "source": [
    "**14. Display all quotes by `Oscar Wilde`.**\n"
   ]
  },
  {
   "cell_type": "code",
   "execution_count": 23,
   "metadata": {
    "id": "ibptZxZJlg2X"
   },
   "outputs": [
    {
     "name": "stdout",
     "output_type": "stream",
     "text": [
      "'Beauty is in the eyes of the beholder.' - Oscar Wilde\n",
      "'Be yourself; everyone else is already taken.' - Oscar Wilde\n"
     ]
    }
   ],
   "source": [
    "# Your code\n",
    "from sqlalchemy import create_engine\n",
    "from sqlalchemy.orm import sessionmaker\n",
    "\n",
    "# Create the engine and session (assuming the engine and session have been created previously)\n",
    "engine = create_engine('sqlite:///MyDataBase.db', connect_args={'timeout': 10})\n",
    "Session = sessionmaker(bind=engine)\n",
    "session = Session()\n",
    "\n",
    "# Query all quotes by Oscar Wilde\n",
    "quotes = session.query(Quotation).filter_by(quote_author='Oscar Wilde').all()\n",
    "\n",
    "# Display the quotes\n",
    "for quote in quotes:\n",
    "    print(f\"'{quote.quote_quotation}' - {quote.quote_author}\")\n"
   ]
  },
  {
   "cell_type": "markdown",
   "metadata": {},
   "source": [
    "Full Code Context\n",
    "Here’s the complete code including setup and query:"
   ]
  },
  {
   "cell_type": "code",
   "execution_count": 24,
   "metadata": {},
   "outputs": [
    {
     "name": "stdout",
     "output_type": "stream",
     "text": [
      "'Beauty is in the eyes of the beholder.' - Oscar Wilde\n",
      "'Be yourself; everyone else is already taken.' - Oscar Wilde\n"
     ]
    }
   ],
   "source": [
    "from sqlalchemy import create_engine, Column, Integer, Text\n",
    "from sqlalchemy.orm import sessionmaker, registry\n",
    "\n",
    "# Create mapper_registry\n",
    "mapper_registry = registry()\n",
    "\n",
    "# Create Base using mapper_registry\n",
    "Base = mapper_registry.generate_base()\n",
    "\n",
    "# Define the Quotation class\n",
    "class Quotation(Base):\n",
    "    __tablename__ = 'quotation'\n",
    "    \n",
    "    id = Column(Integer, primary_key=True)\n",
    "    quote_quotation = Column(Text, nullable=False)\n",
    "    quote_author = Column(Text, nullable=False)\n",
    "\n",
    "# Create the engine and session\n",
    "engine = create_engine('sqlite:///MyDataBase.db', connect_args={'timeout': 10})\n",
    "Session = sessionmaker(bind=engine)\n",
    "session = Session()\n",
    "\n",
    "# Query all quotes by Oscar Wilde\n",
    "quotes = session.query(Quotation).filter_by(quote_author='Oscar Wilde').all()\n",
    "\n",
    "# Display the quotes\n",
    "for quote in quotes:\n",
    "    print(f\"'{quote.quote_quotation}' - {quote.quote_author}\")\n"
   ]
  },
  {
   "cell_type": "markdown",
   "metadata": {
    "id": "vRtxs03pjVtb"
   },
   "source": [
    "### Update \n",
    "\n",
    "**15. Make an update of the sentence:** \n",
    ">\"That’s one small step for man, on giant leap for mankind.\" \n",
    "\n",
    "and **replace the author who is `Tintin` by `Neil Armstrong`**."
   ]
  },
  {
   "cell_type": "code",
   "execution_count": null,
   "metadata": {
    "id": "3PgFPT1WjUsY"
   },
   "outputs": [],
   "source": [
    "# Your code\n",
    "from sqlalchemy import create_engine\n",
    "from sqlalchemy.orm import sessionmaker\n",
    "\n",
    "# Create the engine and session (assuming the engine and session have been created previously)\n",
    "engine = create_engine('sqlite:///MyDataBase.db', connect_args={'timeout': 10})\n",
    "Session = sessionmaker(bind=engine)\n",
    "session = Session()\n",
    "\n",
    "# Query the specific quote\n",
    "quote_to_update = session.query(Quotation).filter_by(quote_quotation=\"That’s one small step for man, on giant leap for mankind.\").first()\n",
    "\n",
    "# Update the author\n",
    "if quote_to_update:\n",
    "    quote_to_update.quote_author = \"Neil Armstrong\"\n",
    "    session.commit()  # Commit the transaction to save changes\n",
    "    print(f\"Updated quote with new author: '{quote_to_update.quote_quotation}' - {quote_to_update.quote_author}\")\n",
    "else:\n",
    "    print(\"Quote not found.\")\n"
   ]
  },
  {
   "cell_type": "markdown",
   "metadata": {},
   "source": [
    "Full Code Context\n",
    "Here’s the complete code including setup and update:"
   ]
  },
  {
   "cell_type": "code",
   "execution_count": null,
   "metadata": {},
   "outputs": [],
   "source": [
    "from sqlalchemy import create_engine, Column, Integer, Text\n",
    "from sqlalchemy.orm import sessionmaker, registry\n",
    "\n",
    "# Create mapper_registry\n",
    "mapper_registry = registry()\n",
    "\n",
    "# Create Base using mapper_registry\n",
    "Base = mapper_registry.generate_base()\n",
    "\n",
    "# Define the Quotation class\n",
    "class Quotation(Base):\n",
    "    __tablename__ = 'quotation'\n",
    "    \n",
    "    id = Column(Integer, primary_key=True)\n",
    "    quote_quotation = Column(Text, nullable=False)\n",
    "    quote_author = Column(Text, nullable=False)\n",
    "\n",
    "# Create the engine and session\n",
    "engine = create_engine('sqlite:///MyDataBase.db', connect_args={'timeout': 10})\n",
    "Session = sessionmaker(bind=engine)\n",
    "session = Session()\n",
    "\n",
    "# Query the specific quote\n",
    "quote_to_update = session.query(Quotation).filter_by(quote_quotation=\"That’s one small step for man, on giant leap for mankind.\").first()\n",
    "\n",
    "# Update the author\n",
    "if quote_to_update:\n",
    "    quote_to_update.quote_author = \"Neil Armstrong\"\n",
    "    session.commit()  # Commit the transaction to save changes\n",
    "    print(f\"Updated quote with new author: '{quote_to_update.quote_quotation}' - {quote_to_update.quote_author}\")\n",
    "else:\n",
    "    print(\"Quote not found.\")\n"
   ]
  },
  {
   "cell_type": "markdown",
   "metadata": {
    "id": "LjRrmfj2lwhQ"
   },
   "source": [
    "### Delete\n",
    "\n",
    "**16. Delete all quotes by `Alain Tastet`.**"
   ]
  },
  {
   "cell_type": "code",
   "execution_count": 25,
   "metadata": {
    "id": "NV0UUxcOmmwq"
   },
   "outputs": [
    {
     "name": "stdout",
     "output_type": "stream",
     "text": [
      "Deleted 2 quotes by Alain Tastet.\n"
     ]
    }
   ],
   "source": [
    "# Your code\n",
    "from sqlalchemy import create_engine\n",
    "from sqlalchemy.orm import sessionmaker\n",
    "\n",
    "# Create the engine and session (assuming they have been created previously)\n",
    "engine = create_engine('sqlite:///MyDataBase.db', connect_args={'timeout': 10})\n",
    "Session = sessionmaker(bind=engine)\n",
    "session = Session()\n",
    "\n",
    "# Query all quotes by Alain Tastet\n",
    "quotes_to_delete = session.query(Quotation).filter_by(quote_author=\"Alain Tastet\").all()\n",
    "\n",
    "# Delete the quotes\n",
    "for quote in quotes_to_delete:\n",
    "    session.delete(quote)\n",
    "\n",
    "# Commit the transaction to save the changes\n",
    "session.commit()\n",
    "\n",
    "print(f\"Deleted {len(quotes_to_delete)} quotes by Alain Tastet.\")\n"
   ]
  },
  {
   "cell_type": "markdown",
   "metadata": {},
   "source": [
    "Full Code Context\n",
    "Here’s the complete code including setup and deletion:"
   ]
  },
  {
   "cell_type": "code",
   "execution_count": 26,
   "metadata": {},
   "outputs": [
    {
     "name": "stdout",
     "output_type": "stream",
     "text": [
      "Deleted 0 quotes by Alain Tastet.\n"
     ]
    }
   ],
   "source": [
    "from sqlalchemy import create_engine, Column, Integer, Text\n",
    "from sqlalchemy.orm import sessionmaker, registry\n",
    "\n",
    "# Create mapper_registry\n",
    "mapper_registry = registry()\n",
    "\n",
    "# Create Base using mapper_registry\n",
    "Base = mapper_registry.generate_base()\n",
    "\n",
    "# Define the Quotation class\n",
    "class Quotation(Base):\n",
    "    __tablename__ = 'quotation'\n",
    "    \n",
    "    id = Column(Integer, primary_key=True)\n",
    "    quote_quotation = Column(Text, nullable=False)\n",
    "    quote_author = Column(Text, nullable=False)\n",
    "\n",
    "# Create the engine and session\n",
    "engine = create_engine('sqlite:///MyDataBase.db', connect_args={'timeout': 10})\n",
    "Session = sessionmaker(bind=engine)\n",
    "session = Session()\n",
    "\n",
    "# Query all quotes by Alain Tastet\n",
    "quotes_to_delete = session.query(Quotation).filter_by(quote_author=\"Alain Tastet\").all()\n",
    "\n",
    "# Delete the quotes\n",
    "for quote in quotes_to_delete:\n",
    "    session.delete(quote)\n",
    "\n",
    "# Commit the transaction to save the changes\n",
    "session.commit()\n",
    "\n",
    "print(f\"Deleted {len(quotes_to_delete)} quotes by Alain Tastet.\")\n"
   ]
  },
  {
   "cell_type": "markdown",
   "metadata": {
    "id": "-e9EMKy8mnOS"
   },
   "source": [
    "**17. Delete the quote with the `id 2`.** "
   ]
  },
  {
   "cell_type": "code",
   "execution_count": 27,
   "metadata": {
    "id": "JswdTo5Kmrwr"
   },
   "outputs": [
    {
     "name": "stdout",
     "output_type": "stream",
     "text": [
      "Quote with id 2 has been deleted.\n"
     ]
    }
   ],
   "source": [
    "# Your code\n",
    "from sqlalchemy import create_engine\n",
    "from sqlalchemy.orm import sessionmaker\n",
    "\n",
    "# Create the engine and session (assuming they have been created previously)\n",
    "engine = create_engine('sqlite:///MyDataBase.db', connect_args={'timeout': 10})\n",
    "Session = sessionmaker(bind=engine)\n",
    "session = Session()\n",
    "\n",
    "# Query the quote with id 2\n",
    "quote_to_delete = session.query(Quotation).filter_by(id=2).first()\n",
    "\n",
    "if quote_to_delete:\n",
    "    # Delete the quote\n",
    "    session.delete(quote_to_delete)\n",
    "    # Commit the transaction to save the changes\n",
    "    session.commit()\n",
    "    print(f\"Quote with id {quote_to_delete.id} has been deleted.\")\n",
    "else:\n",
    "    print(\"Quote with id 2 not found.\")\n",
    "\n",
    "# Close the session\n",
    "session.close()\n"
   ]
  },
  {
   "cell_type": "markdown",
   "metadata": {},
   "source": [
    "Full Code Context\n",
    "Here’s the complete code including setup and deletion of the specific quote:"
   ]
  },
  {
   "cell_type": "code",
   "execution_count": 28,
   "metadata": {},
   "outputs": [
    {
     "name": "stdout",
     "output_type": "stream",
     "text": [
      "Quote with id 2 not found.\n"
     ]
    }
   ],
   "source": [
    "from sqlalchemy import create_engine, Column, Integer, Text\n",
    "from sqlalchemy.orm import sessionmaker, registry\n",
    "\n",
    "# Create mapper_registry\n",
    "mapper_registry = registry()\n",
    "\n",
    "# Create Base using mapper_registry\n",
    "Base = mapper_registry.generate_base()\n",
    "\n",
    "# Define the Quotation class\n",
    "class Quotation(Base):\n",
    "    __tablename__ = 'quotation'\n",
    "    \n",
    "    id = Column(Integer, primary_key=True)\n",
    "    quote_quotation = Column(Text, nullable=False)\n",
    "    quote_author = Column(Text, nullable=False)\n",
    "\n",
    "# Create the engine and session\n",
    "engine = create_engine('sqlite:///MyDataBase.db', connect_args={'timeout': 10})\n",
    "Session = sessionmaker(bind=engine)\n",
    "session = Session()\n",
    "\n",
    "# Query the quote with id 2\n",
    "quote_to_delete = session.query(Quotation).filter_by(id=2).first()\n",
    "\n",
    "if quote_to_delete:\n",
    "    # Delete the quote\n",
    "    session.delete(quote_to_delete)\n",
    "    # Commit the transaction to save the changes\n",
    "    session.commit()\n",
    "    print(f\"Quote with id {quote_to_delete.id} has been deleted.\")\n",
    "else:\n",
    "    print(\"Quote with id 2 not found.\")\n",
    "\n",
    "# Close the session\n",
    "session.close()\n"
   ]
  },
  {
   "cell_type": "markdown",
   "metadata": {},
   "source": [
    "## That's it!\n",
    "You have built a database and acquired many new tools to interact with it. On to the next step!\n",
    "\n",
    "![tools](https://media.giphy.com/media/xT0xekLZmeC54FCTJu/giphy-downsized-large.gif) \n",
    "\n",
    "## Resources\n",
    "\n",
    "- [Udacity Database Setup using SQLAlchemy](https://github.com/udacity/Full-Stack-Foundations/blob/master/Lesson_1/database_setup.py)\n",
    "- [Cheat sheet SQL Alchemy](https://www.pythonsheets.com/notes/python-sqlalchemy.html)"
   ]
  }
 ],
 "metadata": {
  "colab": {
   "collapsed_sections": [],
   "name": "drill_sql_alchemy.ipynb",
   "provenance": []
  },
  "kernelspec": {
   "display_name": "Python 3.9.13 64-bit (microsoft store)",
   "language": "python",
   "name": "python3"
  },
  "language_info": {
   "codemirror_mode": {
    "name": "ipython",
    "version": 3
   },
   "file_extension": ".py",
   "mimetype": "text/x-python",
   "name": "python",
   "nbconvert_exporter": "python",
   "pygments_lexer": "ipython3",
   "version": "3.12.5"
  },
  "vscode": {
   "interpreter": {
    "hash": "5af58ead5434bcaec4ba320c097b4ab95f4d47b5cc097d838e053a401accc545"
   }
  }
 },
 "nbformat": 4,
 "nbformat_minor": 1
}
