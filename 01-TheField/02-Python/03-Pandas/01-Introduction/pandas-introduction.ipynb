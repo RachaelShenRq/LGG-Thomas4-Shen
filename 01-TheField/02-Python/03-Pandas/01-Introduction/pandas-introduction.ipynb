{
 "cells": [
  {
   "attachments": {},
   "cell_type": "markdown",
   "metadata": {},
   "source": [
    "# Introduction Pandas"
   ]
  },
  {
   "attachments": {},
   "cell_type": "markdown",
   "metadata": {},
   "source": [
    "`pandas` is a Python package providing fast, flexible, and expressive data structures designed to make working with \"relational\" or \"labeled\" data both easy and intuitive. It aims to be the fundamental high-level building block for doing practical, real world data analysis in Python. Additionally, it has the broader goal of becoming the most powerful and flexible open source data analysis / manipulation tool available in any language. It is already well on its way towards this goal.\n",
    "\n",
    "Prerequisite :\n",
    "- Numpy\n",
    "pandas \"是一个 Python 软件包，它提供快速、灵活和富有表现力的数据结构，旨在使 \"关系 \"或 \"标记 \"数据的处理变得简单而直观。它的目标是成为用 Python 进行实际数据分析的基本高级构建模块。此外，它还有一个更广泛的目标，即成为任何语言中最强大、最灵活的开源数据分析/处理工具。它已经在实现这一目标的道路上迈出了坚实的一步。\n",
    "\n",
    "前提条件 ：\n",
    "- Numpy"
   ]
  },
  {
   "cell_type": "markdown",
   "metadata": {},
   "source": [
    "我加的。 Pandas 名字衍生自术语 \"panel data\"（面板数据）和 \"Python data analysis\"（Python 数据分析）。"
   ]
  },
  {
   "attachments": {},
   "cell_type": "markdown",
   "metadata": {},
   "source": [
    "## Import pandas (and Numpy)"
   ]
  },
  {
   "attachments": {},
   "cell_type": "markdown",
   "metadata": {},
   "source": [
    "Note: it is conventional to refer to `pandas` as `pd`.   \n",
    "When you add the `as pd` at the end of your import statement, your Jupyter Notebook understands that from this point on every time you type `pd`, you are actually referring to the pandas library."
   ]
  },
  {
   "cell_type": "code",
   "execution_count": 2,
   "metadata": {
    "jupyter": {
     "is_executing": true
    }
   },
   "outputs": [],
   "source": [
    "import numpy as np\n",
    "import pandas as pd"
   ]
  },
  {
   "attachments": {},
   "cell_type": "markdown",
   "metadata": {},
   "source": [
    "## Download the dataset"
   ]
  },
  {
   "cell_type": "code",
   "execution_count": 4,
   "metadata": {},
   "outputs": [],
   "source": [
    "df = pd.read_csv('pandas_tutorial_read.csv')"
   ]
  },
  {
   "attachments": {},
   "cell_type": "markdown",
   "metadata": {},
   "source": [
    "# The Basics"
   ]
  },
  {
   "attachments": {},
   "cell_type": "markdown",
   "metadata": {},
   "source": [
    "Now that we have our dataframe in our variable df, let's look at what it contains. We can use the function `head()` to see the first couple rows of the dataframe (or the function `tail()` to see the last few rows)."
   ]
  },
  {
   "cell_type": "code",
   "execution_count": 5,
   "metadata": {},
   "outputs": [
    {
     "data": {
      "text/html": [
       "<div>\n",
       "<style scoped>\n",
       "    .dataframe tbody tr th:only-of-type {\n",
       "        vertical-align: middle;\n",
       "    }\n",
       "\n",
       "    .dataframe tbody tr th {\n",
       "        vertical-align: top;\n",
       "    }\n",
       "\n",
       "    .dataframe thead th {\n",
       "        text-align: right;\n",
       "    }\n",
       "</style>\n",
       "<table border=\"1\" class=\"dataframe\">\n",
       "  <thead>\n",
       "    <tr style=\"text-align: right;\">\n",
       "      <th></th>\n",
       "      <th>ins</th>\n",
       "      <th>type_entity</th>\n",
       "      <th>entity</th>\n",
       "      <th>period</th>\n",
       "      <th>value</th>\n",
       "    </tr>\n",
       "  </thead>\n",
       "  <tbody>\n",
       "    <tr>\n",
       "      <th>0</th>\n",
       "      <td>3000</td>\n",
       "      <td>Région</td>\n",
       "      <td>Wallonie</td>\n",
       "      <td>01/01/2019</td>\n",
       "      <td>215.0</td>\n",
       "    </tr>\n",
       "    <tr>\n",
       "      <th>1</th>\n",
       "      <td>20002</td>\n",
       "      <td>Province</td>\n",
       "      <td>Brabant Wallon</td>\n",
       "      <td>01/01/2019</td>\n",
       "      <td>367.9</td>\n",
       "    </tr>\n",
       "    <tr>\n",
       "      <th>2</th>\n",
       "      <td>25000</td>\n",
       "      <td>Arrondissement</td>\n",
       "      <td>Nivelles</td>\n",
       "      <td>01/01/2019</td>\n",
       "      <td>367.9</td>\n",
       "    </tr>\n",
       "    <tr>\n",
       "      <th>3</th>\n",
       "      <td>25005</td>\n",
       "      <td>Commune</td>\n",
       "      <td>Beauvechain</td>\n",
       "      <td>01/01/2019</td>\n",
       "      <td>187.8</td>\n",
       "    </tr>\n",
       "    <tr>\n",
       "      <th>4</th>\n",
       "      <td>25014</td>\n",
       "      <td>Commune</td>\n",
       "      <td>Braine-l'Alleud</td>\n",
       "      <td>01/01/2019</td>\n",
       "      <td>764.8</td>\n",
       "    </tr>\n",
       "  </tbody>\n",
       "</table>\n",
       "</div>"
      ],
      "text/plain": [
       "     ins     type_entity           entity      period  value\n",
       "0   3000          Région         Wallonie  01/01/2019  215.0\n",
       "1  20002        Province   Brabant Wallon  01/01/2019  367.9\n",
       "2  25000  Arrondissement         Nivelles  01/01/2019  367.9\n",
       "3  25005         Commune      Beauvechain  01/01/2019  187.8\n",
       "4  25014         Commune  Braine-l'Alleud  01/01/2019  764.8"
      ]
     },
     "execution_count": 5,
     "metadata": {},
     "output_type": "execute_result"
    }
   ],
   "source": [
    "df.head()"
   ]
  },
  {
   "cell_type": "code",
   "execution_count": 6,
   "metadata": {},
   "outputs": [
    {
     "data": {
      "text/html": [
       "<div>\n",
       "<style scoped>\n",
       "    .dataframe tbody tr th:only-of-type {\n",
       "        vertical-align: middle;\n",
       "    }\n",
       "\n",
       "    .dataframe tbody tr th {\n",
       "        vertical-align: top;\n",
       "    }\n",
       "\n",
       "    .dataframe thead th {\n",
       "        text-align: right;\n",
       "    }\n",
       "</style>\n",
       "<table border=\"1\" class=\"dataframe\">\n",
       "  <thead>\n",
       "    <tr style=\"text-align: right;\">\n",
       "      <th></th>\n",
       "      <th>ins</th>\n",
       "      <th>type_entity</th>\n",
       "      <th>entity</th>\n",
       "      <th>period</th>\n",
       "      <th>value</th>\n",
       "    </tr>\n",
       "  </thead>\n",
       "  <tbody>\n",
       "    <tr>\n",
       "      <th>286</th>\n",
       "      <td>93018</td>\n",
       "      <td>Commune</td>\n",
       "      <td>Doische</td>\n",
       "      <td>01/01/2019</td>\n",
       "      <td>35.6</td>\n",
       "    </tr>\n",
       "    <tr>\n",
       "      <th>287</th>\n",
       "      <td>93022</td>\n",
       "      <td>Commune</td>\n",
       "      <td>Florennes</td>\n",
       "      <td>01/01/2019</td>\n",
       "      <td>84.3</td>\n",
       "    </tr>\n",
       "    <tr>\n",
       "      <th>288</th>\n",
       "      <td>93056</td>\n",
       "      <td>Commune</td>\n",
       "      <td>Philippeville</td>\n",
       "      <td>01/01/2019</td>\n",
       "      <td>59.0</td>\n",
       "    </tr>\n",
       "    <tr>\n",
       "      <th>289</th>\n",
       "      <td>93088</td>\n",
       "      <td>Commune</td>\n",
       "      <td>Walcourt</td>\n",
       "      <td>01/01/2019</td>\n",
       "      <td>149.1</td>\n",
       "    </tr>\n",
       "    <tr>\n",
       "      <th>290</th>\n",
       "      <td>93090</td>\n",
       "      <td>Commune</td>\n",
       "      <td>Viroinval</td>\n",
       "      <td>01/01/2019</td>\n",
       "      <td>46.7</td>\n",
       "    </tr>\n",
       "  </tbody>\n",
       "</table>\n",
       "</div>"
      ],
      "text/plain": [
       "       ins type_entity         entity      period  value\n",
       "286  93018     Commune        Doische  01/01/2019   35.6\n",
       "287  93022     Commune      Florennes  01/01/2019   84.3\n",
       "288  93056     Commune  Philippeville  01/01/2019   59.0\n",
       "289  93088     Commune       Walcourt  01/01/2019  149.1\n",
       "290  93090     Commune      Viroinval  01/01/2019   46.7"
      ]
     },
     "execution_count": 6,
     "metadata": {},
     "output_type": "execute_result"
    }
   ],
   "source": [
    "df.tail()"
   ]
  },
  {
   "attachments": {},
   "cell_type": "markdown",
   "metadata": {},
   "source": [
    "We can see the dimensions of the dataframe using the the `shape` attribute, like in Numpy."
   ]
  },
  {
   "cell_type": "markdown",
   "metadata": {},
   "source": [
    "我的备注  :  (291, 5)  MEANS 291 records (rows) and each record has 5 attributes (columns)\n",
    "EXEMPLE :\n",
    "\"\"\"\n",
    "data = {'A': [1, 2, 3], 'B': [4, 5, 6]}\n",
    "df = pd.DataFrame(data)\n",
    "\n",
    "print(df.shape)  # Output: (3, 2)\n",
    "\"\"\""
   ]
  },
  {
   "cell_type": "code",
   "execution_count": 8,
   "metadata": {},
   "outputs": [
    {
     "data": {
      "text/plain": [
       "(291, 5)"
      ]
     },
     "execution_count": 8,
     "metadata": {},
     "output_type": "execute_result"
    }
   ],
   "source": [
    "df.shape"
   ]
  },
  {
   "attachments": {},
   "cell_type": "markdown",
   "metadata": {},
   "source": [
    "We can also extract all the column names as a list, by using the `columns` attribute and can extract the rows with the `index` attribute"
   ]
  },
  {
   "cell_type": "code",
   "execution_count": 9,
   "metadata": {},
   "outputs": [
    {
     "data": {
      "text/plain": [
       "['ins', 'type_entity', 'entity', 'period', 'value']"
      ]
     },
     "execution_count": 9,
     "metadata": {},
     "output_type": "execute_result"
    }
   ],
   "source": [
    "df.columns.tolist()"
   ]
  },
  {
   "attachments": {},
   "cell_type": "markdown",
   "metadata": {},
   "source": [
    "In order to get a better idea of the type of data that we are dealing with, we can call the `describe()` function to see statistics like mean, min, etc... about each column of the dataset. 为了更好地了解我们正在处理的数据类型，我们可以调用 `describe()` 函数查看数据集每一列的平均值、最小值等统计数据。"
   ]
  },
  {
   "cell_type": "code",
   "execution_count": 10,
   "metadata": {},
   "outputs": [
    {
     "data": {
      "text/html": [
       "<div>\n",
       "<style scoped>\n",
       "    .dataframe tbody tr th:only-of-type {\n",
       "        vertical-align: middle;\n",
       "    }\n",
       "\n",
       "    .dataframe tbody tr th {\n",
       "        vertical-align: top;\n",
       "    }\n",
       "\n",
       "    .dataframe thead th {\n",
       "        text-align: right;\n",
       "    }\n",
       "</style>\n",
       "<table border=\"1\" class=\"dataframe\">\n",
       "  <thead>\n",
       "    <tr style=\"text-align: right;\">\n",
       "      <th></th>\n",
       "      <th>ins</th>\n",
       "      <th>value</th>\n",
       "    </tr>\n",
       "  </thead>\n",
       "  <tbody>\n",
       "    <tr>\n",
       "      <th>count</th>\n",
       "      <td>291.000000</td>\n",
       "      <td>291.000000</td>\n",
       "    </tr>\n",
       "    <tr>\n",
       "      <th>mean</th>\n",
       "      <td>64080.941581</td>\n",
       "      <td>319.149828</td>\n",
       "    </tr>\n",
       "    <tr>\n",
       "      <th>std</th>\n",
       "      <td>19262.087619</td>\n",
       "      <td>428.431706</td>\n",
       "    </tr>\n",
       "    <tr>\n",
       "      <th>min</th>\n",
       "      <td>3000.000000</td>\n",
       "      <td>24.500000</td>\n",
       "    </tr>\n",
       "    <tr>\n",
       "      <th>25%</th>\n",
       "      <td>55019.500000</td>\n",
       "      <td>79.400000</td>\n",
       "    </tr>\n",
       "    <tr>\n",
       "      <th>50%</th>\n",
       "      <td>62096.000000</td>\n",
       "      <td>186.000000</td>\n",
       "    </tr>\n",
       "    <tr>\n",
       "      <th>75%</th>\n",
       "      <td>83020.500000</td>\n",
       "      <td>323.700000</td>\n",
       "    </tr>\n",
       "    <tr>\n",
       "      <th>max</th>\n",
       "      <td>93090.000000</td>\n",
       "      <td>3518.600000</td>\n",
       "    </tr>\n",
       "  </tbody>\n",
       "</table>\n",
       "</div>"
      ],
      "text/plain": [
       "                ins        value\n",
       "count    291.000000   291.000000\n",
       "mean   64080.941581   319.149828\n",
       "std    19262.087619   428.431706\n",
       "min     3000.000000    24.500000\n",
       "25%    55019.500000    79.400000\n",
       "50%    62096.000000   186.000000\n",
       "75%    83020.500000   323.700000\n",
       "max    93090.000000  3518.600000"
      ]
     },
     "execution_count": 10,
     "metadata": {},
     "output_type": "execute_result"
    }
   ],
   "source": [
    "df.describe()"
   ]
  },
  {
   "attachments": {},
   "cell_type": "markdown",
   "metadata": {},
   "source": [
    "Okay, so now let's look at information that we want to extract from the dataframe. Let's say I wanted to know the max value of a certain column. The function `max()` will show you the maximum value accross all columns好了，现在让我们来看看我们想从数据帧中提取的信息。比方说，我想知道某一列的最大值。函数 `max()` 将显示所有列的最大值"
   ]
  },
  {
   "cell_type": "code",
   "execution_count": 11,
   "metadata": {},
   "outputs": [
    {
     "data": {
      "text/plain": [
       "ins                 93090\n",
       "type_entity        Région\n",
       "entity             Étalle\n",
       "period         01/01/2019\n",
       "value              3518.6\n",
       "dtype: object"
      ]
     },
     "execution_count": 11,
     "metadata": {},
     "output_type": "execute_result"
    }
   ],
   "source": [
    "df.max()"
   ]
  },
  {
   "attachments": {},
   "cell_type": "markdown",
   "metadata": {},
   "source": [
    "Then, if you'd like to specifically get the max value for a particular column, you pass in the name of the column using the bracket indexing operator然后，如果您想特别获取某一列的最大值，可以使用括号中的索引操作符输入列名"
   ]
  },
  {
   "cell_type": "markdown",
   "metadata": {},
   "source": [
    "我的备注，看上面表格第五行 value 3518.6 , df['value'].max()"
   ]
  },
  {
   "cell_type": "code",
   "execution_count": 15,
   "metadata": {},
   "outputs": [
    {
     "data": {
      "text/plain": [
       "np.float64(3518.6)"
      ]
     },
     "execution_count": 15,
     "metadata": {},
     "output_type": "execute_result"
    }
   ],
   "source": [
    "df['value'].max()"
   ]
  },
  {
   "attachments": {},
   "cell_type": "markdown",
   "metadata": {},
   "source": [
    "If you'd like to find the mean of the column `'value'`, you can use the `mean()` function. "
   ]
  },
  {
   "cell_type": "code",
   "execution_count": 16,
   "metadata": {},
   "outputs": [
    {
     "data": {
      "text/plain": [
       "np.float64(319.1498281786941)"
      ]
     },
     "execution_count": 16,
     "metadata": {},
     "output_type": "execute_result"
    }
   ],
   "source": [
    "df['value'].mean()"
   ]
  },
  {
   "attachments": {},
   "cell_type": "markdown",
   "metadata": {},
   "source": [
    "But what if that's not enough? Let's say we want to actually see the row where this max value is. We can call the `idxmax()` function to identify the row index  好的，如果希望找到包含最大值的行，可以使用 idxmax() 函数来获取该行的索引。然后可以用这个索引来定位整个行。以下是实现这一目的的示例代码："
   ]
  },
  {
   "cell_type": "code",
   "execution_count": 17,
   "metadata": {},
   "outputs": [
    {
     "data": {
      "text/plain": [
       "144"
      ]
     },
     "execution_count": 17,
     "metadata": {},
     "output_type": "execute_result"
    }
   ],
   "source": [
    "df['value'].idxmax()"
   ]
  },
  {
   "attachments": {},
   "cell_type": "markdown",
   "metadata": {},
   "source": [
    "One of the most useful functions that you can call on certain columns in a dataframe is the `value_counts()` function. It shows how many times each item appears in the column. This particular command shows the number of the same values.您可以在数据框中的某些列上调用的最有用的函数之一是“value_counts()”函数。它显示每个项目在列中出现的次数。该特定命令显示相同值的数量。"
   ]
  },
  {
   "cell_type": "code",
   "execution_count": 18,
   "metadata": {},
   "outputs": [
    {
     "data": {
      "text/plain": [
       "value\n",
       "49.4     3\n",
       "312.6    2\n",
       "642.8    2\n",
       "367.9    2\n",
       "46.7     2\n",
       "        ..\n",
       "663.8    1\n",
       "309.6    1\n",
       "479.1    1\n",
       "220.0    1\n",
       "414.8    1\n",
       "Name: count, Length: 280, dtype: int64"
      ]
     },
     "execution_count": 18,
     "metadata": {},
     "output_type": "execute_result"
    }
   ],
   "source": [
    "df['value'].value_counts()"
   ]
  },
  {
   "attachments": {},
   "cell_type": "markdown",
   "metadata": {},
   "source": [
    "# Acessing Values  访问值"
   ]
  },
  {
   "attachments": {},
   "cell_type": "markdown",
   "metadata": {},
   "source": [
    "Then, in order to get a particular row of the dataframe, we need to use the `iloc[]` function. Iloc is definitely one of the more important functions. The main idea is that you want to use it whenever you have the integer index of a certain row that you want to access. As per the Pandas documentation, iloc is an \"integer-location based indexing for selection by position.\"\n",
    "(If you ask yourself: *Why the double brackets ?*; It is explained further.)\n",
    "然后，为了获取数据帧的特定行，我们需要使用“iloc[]”函数。 iloc绝对是比较重要的功能之一。主要思想是，每当您拥有要访问的某一行的整数索引时，您都希望使用它。根据 Pandas 文档，iloc 是“基于整数位置的索引，用于按位置选择”。\n",
    "（如果您问自己：*为什么使用双括号？*；会有进一步解释。）In pandas, iloc[] is a method used for selecting rows and columns by integer index location. It allows you to access a group of rows and columns in a DataFrame using integer-based indexing."
   ]
  },
  {
   "cell_type": "code",
   "execution_count": 20,
   "metadata": {},
   "outputs": [
    {
     "data": {
      "text/html": [
       "<div>\n",
       "<style scoped>\n",
       "    .dataframe tbody tr th:only-of-type {\n",
       "        vertical-align: middle;\n",
       "    }\n",
       "\n",
       "    .dataframe tbody tr th {\n",
       "        vertical-align: top;\n",
       "    }\n",
       "\n",
       "    .dataframe thead th {\n",
       "        text-align: right;\n",
       "    }\n",
       "</style>\n",
       "<table border=\"1\" class=\"dataframe\">\n",
       "  <thead>\n",
       "    <tr style=\"text-align: right;\">\n",
       "      <th></th>\n",
       "      <th>ins</th>\n",
       "      <th>type_entity</th>\n",
       "      <th>entity</th>\n",
       "      <th>period</th>\n",
       "      <th>value</th>\n",
       "    </tr>\n",
       "  </thead>\n",
       "  <tbody>\n",
       "    <tr>\n",
       "      <th>144</th>\n",
       "      <td>62093</td>\n",
       "      <td>Commune</td>\n",
       "      <td>Saint-Nicolas</td>\n",
       "      <td>01/01/2019</td>\n",
       "      <td>3518.6</td>\n",
       "    </tr>\n",
       "  </tbody>\n",
       "</table>\n",
       "</div>"
      ],
      "text/plain": [
       "       ins type_entity         entity      period   value\n",
       "144  62093     Commune  Saint-Nicolas  01/01/2019  3518.6"
      ]
     },
     "execution_count": 20,
     "metadata": {},
     "output_type": "execute_result"
    }
   ],
   "source": [
    "df.iloc[[df['value'].idxmax()]]"
   ]
  },
  {
   "cell_type": "markdown",
   "metadata": {},
   "source": [
    "#### 我去pandas_tutorial_read.csv查看是 146   不是144 看上面答案搜索 \"62093\",\"Commune\",\"Saint-Nicolas\",\"01/01/2019\",\"3518.6\"    懂了\n",
    "#### 因为第一行是 从数字1开始 标题  \"ins\",\"type_entity\",\"entity\",\"period\",\"value\" ，每行计数去掉标题(-1) ; 第二原因计算机从0 开始计数，所以再减去 1 , total moins 2 就对了\n",
    "\n",
    "iloc 是 integer location 的缩写。它是 pandas 库中的一种索引器，用于基于整数位置（而不是标签）来选择数据。iloc 允许通过行和列的整数位置来访问 DataFrame 的特定元素、行或列。以下是一些常见的用法示例：\n",
    "选择单个元素： :   df.iloc[0, 1]  # 选择第1行第2列的元素\n",
    "选择单行: df.iloc[0]  # 选择第1行的所有列\n",
    "选择单列：df.iloc[:, 1]  # 选择第2列的所有行\n",
    "选择多行多列：df.iloc[0:2, 1:3]  # 选择第1到第2行和第2到第3列的子集\n",
    "通过列表选择特定行或列: df.iloc[[0, 2], [1, 3]]  # 选择第1和第3行，第2和第4列的元素\n",
    "iloc 对于按位置索引和切片 DataFrame 非常有用，特别是在标签不可用或不便于使用的情况下。"
   ]
  },
  {
   "attachments": {},
   "cell_type": "markdown",
   "metadata": {},
   "source": [
    "Let's take this a step further. Let's say you want to know the value of the column `'ins'` when the `'value'` column has its max.\n",
    "\n",
    "让我们更进一步。假设您想知道当“value”列达到最大值时“ins”列的值。"
   ]
  },
  {
   "cell_type": "markdown",
   "metadata": {},
   "source": [
    "144 \"62063\",\"Commune\",\"Liège\",\"01/01/2019\",\"2877.7\"\n",
    "145 \"62079\",\"Commune\",\"Oupeye\",\"01/01/2019\",\"701.1\"\n",
    "146 \"62093\",\"Commune\",\"Saint-Nicolas\",\"01/01/2019\",\"3518.6\"\n",
    "注意数据是 ！146 这行，"
   ]
  },
  {
   "cell_type": "markdown",
   "metadata": {},
   "source": [
    "144 \"62063\",\"Commune\",\"Liège\",\"01/01/2019\",\"2877.7\"\n",
    "145 \"62079\",\"Commune\",\"Oupeye\",\"01/01/2019\",\"701.1\"\n",
    "146 \"62093\",\"Commune\",\"Saint-Nicolas\",\"01/01/2019\",\"3518.6\"\n",
    "147 \"62096\",\"Commune\",\"Seraing\",\"01/01/2019\",\"1822.4\"\n",
    "我查的数据， 在pandas_tutorial_read.csv 里"
   ]
  },
  {
   "cell_type": "code",
   "execution_count": 21,
   "metadata": {},
   "outputs": [
    {
     "name": "stdout",
     "output_type": "stream",
     "text": [
      "144\n",
      "       ins type_entity         entity      period   value\n",
      "144  62093     Commune  Saint-Nicolas  01/01/2019  3518.6\n",
      "144    62093\n",
      "Name: ins, dtype: int64\n",
      "<class 'pandas.core.series.Series'>\n"
     ]
    }
   ],
   "source": [
    "# (我把题目拆开来分析)\n",
    "# 1    df['value']：选择 'value' 列。\n",
    "#     idxmax()：返回该列最大值所在的行索引。 \n",
    "max_index = df['value'].idxmax()\n",
    "print(max_index)\n",
    "\n",
    "# 2 df.iloc[[max_index]]：使用 iloc 按位置提取数据。双重括号 [[]] 表示提取一个包含索引为 max_index 的行的 DataFrame。\n",
    "max_row = df.iloc[[max_index]]\n",
    "print(max_row)\n",
    "\n",
    "# 3 从提取的行中选择 ins 列\n",
    "max_ins = max_row['ins']\n",
    "print(max_ins)\n",
    "print(type(max_ins))\n",
    "\n",
    "# 这行代码的意思是：\n",
    "# max_row['ins']：从 DataFrame 中选择 'ins' 列。结果是一个包含单个值的 Series。\n"
   ]
  },
  {
   "cell_type": "markdown",
   "metadata": {},
   "source": [
    "在你的代码中，如果输出显示的是 <class 'pandas.core.series.Series'>，这意味着 print(df.iloc[max_value_index]) 返回的不是单独的值，而是一个 Pandas Series 对象。\n",
    "\n",
    "Pandas Series 是一维数组形式的数据结构，类似于一列数据。当你使用 iloc 来获取特定索引位置的行时，如果这行只有一条记录（也就是一维的），Pandas 会返回一个 Series 对象而不是 DataFrame。"
   ]
  },
  {
   "cell_type": "code",
   "execution_count": 22,
   "metadata": {
    "jupyter": {
     "is_executing": true
    }
   },
   "outputs": [
    {
     "data": {
      "text/plain": [
       "144    62093\n",
       "Name: ins, dtype: int64"
      ]
     },
     "execution_count": 22,
     "metadata": {},
     "output_type": "execute_result"
    }
   ],
   "source": [
    "df.iloc[[df['value'].idxmax()]]['ins']"
   ]
  },
  {
   "attachments": {},
   "cell_type": "markdown",
   "metadata": {},
   "source": [
    "When you see data displayed in the above format, you're dealing with a Pandas `Series` object, not a dataframe object.\n",
    "当您看到以上述格式显示的数据时，您正在处理 Pandas `Series` 对象，而不是数据框对象。"
   ]
  },
  {
   "cell_type": "code",
   "execution_count": 23,
   "metadata": {},
   "outputs": [
    {
     "data": {
      "text/plain": [
       "pandas.core.series.Series"
      ]
     },
     "execution_count": 23,
     "metadata": {},
     "output_type": "execute_result"
    }
   ],
   "source": [
    "type(df.iloc[[df['value'].idxmax()]]['ins'])"
   ]
  },
  {
   "cell_type": "code",
   "execution_count": 9,
   "metadata": {},
   "outputs": [
    {
     "data": {
      "text/plain": [
       "pandas.core.frame.DataFrame"
      ]
     },
     "execution_count": 9,
     "metadata": {},
     "output_type": "execute_result"
    }
   ],
   "source": [
    "type(df.iloc[[df['value'].idxmax()]])"
   ]
  },
  {
   "attachments": {},
   "cell_type": "markdown",
   "metadata": {},
   "source": [
    "The other really important function in Pandas is the `loc` function. Contrary to `iloc`, which is an integer based indexing, `loc` is a \"Purely label-location based indexer for selection by label\". Since all the rows are ordrered by the `ins` column, `loc` and `iloc` are going to be pretty interchangeable for this dataset.\n",
    "在 Pandas 中，另一个非常重要的函数是 loc 函数。与基于整数索引的 iloc 不同，loc 是一个“纯粹基于标签的位置索引器，用于按标签进行选择”。由于所有行都按照 ins 列进行了排序，所以在这个数据集中，loc 和 iloc 可以相互替换使用。这表示我们选择了从行标签 0 到行标签 3（包括行标签 3）的所有行。在这个例子中，loc 函数选择了按行标签排序的行数据，而不是基于整数位置的索引。"
   ]
  },
  {
   "cell_type": "code",
   "execution_count": 10,
   "metadata": {},
   "outputs": [
    {
     "data": {
      "text/html": [
       "<div>\n",
       "<style scoped>\n",
       "    .dataframe tbody tr th:only-of-type {\n",
       "        vertical-align: middle;\n",
       "    }\n",
       "\n",
       "    .dataframe tbody tr th {\n",
       "        vertical-align: top;\n",
       "    }\n",
       "\n",
       "    .dataframe thead th {\n",
       "        text-align: right;\n",
       "    }\n",
       "</style>\n",
       "<table border=\"1\" class=\"dataframe\">\n",
       "  <thead>\n",
       "    <tr style=\"text-align: right;\">\n",
       "      <th></th>\n",
       "      <th>ins</th>\n",
       "      <th>type_entity</th>\n",
       "      <th>entity</th>\n",
       "      <th>period</th>\n",
       "      <th>value</th>\n",
       "    </tr>\n",
       "  </thead>\n",
       "  <tbody>\n",
       "    <tr>\n",
       "      <th>0</th>\n",
       "      <td>3000</td>\n",
       "      <td>Région</td>\n",
       "      <td>Wallonie</td>\n",
       "      <td>01/01/2019</td>\n",
       "      <td>215.0</td>\n",
       "    </tr>\n",
       "    <tr>\n",
       "      <th>1</th>\n",
       "      <td>20002</td>\n",
       "      <td>Province</td>\n",
       "      <td>Brabant Wallon</td>\n",
       "      <td>01/01/2019</td>\n",
       "      <td>367.9</td>\n",
       "    </tr>\n",
       "    <tr>\n",
       "      <th>2</th>\n",
       "      <td>25000</td>\n",
       "      <td>Arrondissement</td>\n",
       "      <td>Nivelles</td>\n",
       "      <td>01/01/2019</td>\n",
       "      <td>367.9</td>\n",
       "    </tr>\n",
       "    <tr>\n",
       "      <th>3</th>\n",
       "      <td>25005</td>\n",
       "      <td>Commune</td>\n",
       "      <td>Beauvechain</td>\n",
       "      <td>01/01/2019</td>\n",
       "      <td>187.8</td>\n",
       "    </tr>\n",
       "  </tbody>\n",
       "</table>\n",
       "</div>"
      ],
      "text/plain": [
       "     ins     type_entity          entity      period  value\n",
       "0   3000          Région        Wallonie  01/01/2019  215.0\n",
       "1  20002        Province  Brabant Wallon  01/01/2019  367.9\n",
       "2  25000  Arrondissement        Nivelles  01/01/2019  367.9\n",
       "3  25005         Commune     Beauvechain  01/01/2019  187.8"
      ]
     },
     "execution_count": 10,
     "metadata": {},
     "output_type": "execute_result"
    }
   ],
   "source": [
    "df.loc[:3]"
   ]
  },
  {
   "attachments": {},
   "cell_type": "markdown",
   "metadata": {},
   "source": [
    "Notice the slight difference in that **`iloc` is exclusive of the second number, while loc is inclusive**. 请注意，iloc 是排除第二个数的，而 loc 是包含第二个数的。    使用 loc 进行切片选择：df.loc[0:3] 选择的是从行标签 0 到行标签 3 的所有行（包括行标签 3）。\n",
    "\n",
    "selected_data = df.loc[0:3]\n",
    "print(selected_data)\n",
    "   A   B  C\n",
    "0  1  10  a\n",
    "1  2  20  b\n",
    "2  3  30  c\n",
    "3  4  40  d\n",
    "\n",
    "使用 iloc 进行切片选择：\n",
    "df.iloc[0:3] 选择的是索引位置为 0 到 2 的行（不包括索引位置 3）\n",
    "\n",
    "selected_data = df.iloc[0:3]\n",
    "print(selected_data)\n",
    "  A   B  C\n",
    "0  1  10  a\n",
    "1  2  20  b\n",
    "2  3  30  c\n"
   ]
  },
  {
   "attachments": {},
   "cell_type": "markdown",
   "metadata": {},
   "source": [
    "Below is an example of how you can use `loc` to achieve the same task as we did previously with `iloc`."
   ]
  },
  {
   "cell_type": "markdown",
   "metadata": {},
   "source": [
    "我的备注  146 \"62093\",\"Commune\",\"Saint-Nicolas\",\"01/01/2019\",\"3518.6\""
   ]
  },
  {
   "cell_type": "code",
   "execution_count": 24,
   "metadata": {},
   "outputs": [
    {
     "data": {
      "text/plain": [
       "np.int64(62093)"
      ]
     },
     "execution_count": 24,
     "metadata": {},
     "output_type": "execute_result"
    }
   ],
   "source": [
    "df.loc[df['value'].idxmax(), 'ins']"
   ]
  },
  {
   "attachments": {},
   "cell_type": "markdown",
   "metadata": {},
   "source": [
    "A faster version uses the `at()` function. `at()` is really useful whenever you know the row label and the column label of the particular value that you want to get. "
   ]
  },
  {
   "cell_type": "code",
   "execution_count": 11,
   "metadata": {},
   "outputs": [
    {
     "data": {
      "text/plain": [
       "np.int64(62093)"
      ]
     },
     "execution_count": 11,
     "metadata": {},
     "output_type": "execute_result"
    }
   ],
   "source": [
    "df.at[df['value'].idxmax(), 'ins']"
   ]
  },
  {
   "attachments": {},
   "cell_type": "markdown",
   "metadata": {},
   "source": [
    "If you'd like to see more discussion on how loc and iloc are different, check out this great Stack Overflow post: http://stackoverflow.com/questions/31593201/pandas-iloc-vs-ix-vs-loc-explanation. Just remember that **`iloc` looks at position** and **`loc` looks at labels**. `loc` becomes very important when your row labels aren't integers. \n",
    "一种更快速的版本使用 at() 函数。当您知道特定值的行标签和列标签时，at() 非常有用。"
   ]
  },
  {
   "cell_type": "markdown",
   "metadata": {},
   "source": [
    "总结\n",
    "df.loc[:5] 包含标签为 5 的行，因此会返回 6 行。\n",
    "df.iloc[:5] 不包含索引为 5 的行，因此会返回 5 行。"
   ]
  },
  {
   "attachments": {},
   "cell_type": "markdown",
   "metadata": {},
   "source": [
    "# Sorting"
   ]
  },
  {
   "attachments": {},
   "cell_type": "markdown",
   "metadata": {},
   "source": [
    "Let's say that we want to sort the dataframe in increasing order.\n",
    "总结\n",
    "使用 sort_values(by='列名') 可以对指定列进行升序排序。\n",
    "使用 sort_values(by=['列名1', '列名2'], ascending=[True, False]) 可以对多列进行混合排序（升序或降序）。\n",
    "排序后的 DataFrame 会生成一个新的 DataFrame，原始 DataFrame 保持不变。"
   ]
  },
  {
   "cell_type": "code",
   "execution_count": 25,
   "metadata": {},
   "outputs": [
    {
     "data": {
      "text/html": [
       "<div>\n",
       "<style scoped>\n",
       "    .dataframe tbody tr th:only-of-type {\n",
       "        vertical-align: middle;\n",
       "    }\n",
       "\n",
       "    .dataframe tbody tr th {\n",
       "        vertical-align: top;\n",
       "    }\n",
       "\n",
       "    .dataframe thead th {\n",
       "        text-align: right;\n",
       "    }\n",
       "</style>\n",
       "<table border=\"1\" class=\"dataframe\">\n",
       "  <thead>\n",
       "    <tr style=\"text-align: right;\">\n",
       "      <th></th>\n",
       "      <th>ins</th>\n",
       "      <th>type_entity</th>\n",
       "      <th>entity</th>\n",
       "      <th>period</th>\n",
       "      <th>value</th>\n",
       "    </tr>\n",
       "  </thead>\n",
       "  <tbody>\n",
       "    <tr>\n",
       "      <th>228</th>\n",
       "      <td>84016</td>\n",
       "      <td>Commune</td>\n",
       "      <td>Daverdisse</td>\n",
       "      <td>01/01/2019</td>\n",
       "      <td>24.5</td>\n",
       "    </tr>\n",
       "    <tr>\n",
       "      <th>265</th>\n",
       "      <td>91143</td>\n",
       "      <td>Commune</td>\n",
       "      <td>Vresse-sur-Semois</td>\n",
       "      <td>01/01/2019</td>\n",
       "      <td>25.8</td>\n",
       "    </tr>\n",
       "    <tr>\n",
       "      <th>214</th>\n",
       "      <td>82038</td>\n",
       "      <td>Commune</td>\n",
       "      <td>Sainte-Ode</td>\n",
       "      <td>01/01/2019</td>\n",
       "      <td>26.1</td>\n",
       "    </tr>\n",
       "    <tr>\n",
       "      <th>229</th>\n",
       "      <td>84029</td>\n",
       "      <td>Commune</td>\n",
       "      <td>Herbeumont</td>\n",
       "      <td>01/01/2019</td>\n",
       "      <td>27.8</td>\n",
       "    </tr>\n",
       "    <tr>\n",
       "      <th>219</th>\n",
       "      <td>83031</td>\n",
       "      <td>Commune</td>\n",
       "      <td>La Roche-en-Ardenne</td>\n",
       "      <td>01/01/2019</td>\n",
       "      <td>28.6</td>\n",
       "    </tr>\n",
       "  </tbody>\n",
       "</table>\n",
       "</div>"
      ],
      "text/plain": [
       "       ins type_entity               entity      period  value\n",
       "228  84016     Commune           Daverdisse  01/01/2019   24.5\n",
       "265  91143     Commune    Vresse-sur-Semois  01/01/2019   25.8\n",
       "214  82038     Commune           Sainte-Ode  01/01/2019   26.1\n",
       "229  84029     Commune           Herbeumont  01/01/2019   27.8\n",
       "219  83031     Commune  La Roche-en-Ardenne  01/01/2019   28.6"
      ]
     },
     "execution_count": 25,
     "metadata": {},
     "output_type": "execute_result"
    }
   ],
   "source": [
    "df.sort_values('value').head()"
   ]
  },
  {
   "attachments": {},
   "cell_type": "markdown",
   "metadata": {},
   "source": [
    "# Filtering Rows Conditionally"
   ]
  },
  {
   "attachments": {},
   "cell_type": "markdown",
   "metadata": {},
   "source": [
    "Now, let's say we want to find all of the rows that satisy a particular condition. For example, we want to find all the rows where `'value'` is higher than 150. The idea behind this command is you want to access the column `'value'` of the dataframe df (`df['value']`), find which entries are above 150 (`df['value'] > 150`), and then returns only those specific rows in a dataframe format (`df[df['value'] > 150]`)."
   ]
  },
  {
   "cell_type": "code",
   "execution_count": 27,
   "metadata": {},
   "outputs": [
    {
     "data": {
      "text/html": [
       "<div>\n",
       "<style scoped>\n",
       "    .dataframe tbody tr th:only-of-type {\n",
       "        vertical-align: middle;\n",
       "    }\n",
       "\n",
       "    .dataframe tbody tr th {\n",
       "        vertical-align: top;\n",
       "    }\n",
       "\n",
       "    .dataframe thead th {\n",
       "        text-align: right;\n",
       "    }\n",
       "</style>\n",
       "<table border=\"1\" class=\"dataframe\">\n",
       "  <thead>\n",
       "    <tr style=\"text-align: right;\">\n",
       "      <th></th>\n",
       "      <th>ins</th>\n",
       "      <th>type_entity</th>\n",
       "      <th>entity</th>\n",
       "      <th>period</th>\n",
       "      <th>value</th>\n",
       "    </tr>\n",
       "  </thead>\n",
       "  <tbody>\n",
       "    <tr>\n",
       "      <th>0</th>\n",
       "      <td>3000</td>\n",
       "      <td>Région</td>\n",
       "      <td>Wallonie</td>\n",
       "      <td>01/01/2019</td>\n",
       "      <td>215.0</td>\n",
       "    </tr>\n",
       "    <tr>\n",
       "      <th>1</th>\n",
       "      <td>20002</td>\n",
       "      <td>Province</td>\n",
       "      <td>Brabant Wallon</td>\n",
       "      <td>01/01/2019</td>\n",
       "      <td>367.9</td>\n",
       "    </tr>\n",
       "    <tr>\n",
       "      <th>2</th>\n",
       "      <td>25000</td>\n",
       "      <td>Arrondissement</td>\n",
       "      <td>Nivelles</td>\n",
       "      <td>01/01/2019</td>\n",
       "      <td>367.9</td>\n",
       "    </tr>\n",
       "    <tr>\n",
       "      <th>3</th>\n",
       "      <td>25005</td>\n",
       "      <td>Commune</td>\n",
       "      <td>Beauvechain</td>\n",
       "      <td>01/01/2019</td>\n",
       "      <td>187.8</td>\n",
       "    </tr>\n",
       "    <tr>\n",
       "      <th>4</th>\n",
       "      <td>25014</td>\n",
       "      <td>Commune</td>\n",
       "      <td>Braine-l'Alleud</td>\n",
       "      <td>01/01/2019</td>\n",
       "      <td>764.8</td>\n",
       "    </tr>\n",
       "    <tr>\n",
       "      <th>...</th>\n",
       "      <td>...</td>\n",
       "      <td>...</td>\n",
       "      <td>...</td>\n",
       "      <td>...</td>\n",
       "      <td>...</td>\n",
       "    </tr>\n",
       "    <tr>\n",
       "      <th>277</th>\n",
       "      <td>92114</td>\n",
       "      <td>Commune</td>\n",
       "      <td>Sombreffe</td>\n",
       "      <td>01/01/2019</td>\n",
       "      <td>235.1</td>\n",
       "    </tr>\n",
       "    <tr>\n",
       "      <th>278</th>\n",
       "      <td>92137</td>\n",
       "      <td>Commune</td>\n",
       "      <td>Sambreville</td>\n",
       "      <td>01/01/2019</td>\n",
       "      <td>825.7</td>\n",
       "    </tr>\n",
       "    <tr>\n",
       "      <th>280</th>\n",
       "      <td>92140</td>\n",
       "      <td>Commune</td>\n",
       "      <td>Jemeppe-sur-Sambre</td>\n",
       "      <td>01/01/2019</td>\n",
       "      <td>408.5</td>\n",
       "    </tr>\n",
       "    <tr>\n",
       "      <th>281</th>\n",
       "      <td>92141</td>\n",
       "      <td>Commune</td>\n",
       "      <td>La Bruyère</td>\n",
       "      <td>01/01/2019</td>\n",
       "      <td>174.9</td>\n",
       "    </tr>\n",
       "    <tr>\n",
       "      <th>282</th>\n",
       "      <td>92142</td>\n",
       "      <td>Commune</td>\n",
       "      <td>Gembloux</td>\n",
       "      <td>01/01/2019</td>\n",
       "      <td>269.7</td>\n",
       "    </tr>\n",
       "  </tbody>\n",
       "</table>\n",
       "<p>165 rows × 5 columns</p>\n",
       "</div>"
      ],
      "text/plain": [
       "       ins     type_entity              entity      period  value\n",
       "0     3000          Région            Wallonie  01/01/2019  215.0\n",
       "1    20002        Province      Brabant Wallon  01/01/2019  367.9\n",
       "2    25000  Arrondissement            Nivelles  01/01/2019  367.9\n",
       "3    25005         Commune         Beauvechain  01/01/2019  187.8\n",
       "4    25014         Commune     Braine-l'Alleud  01/01/2019  764.8\n",
       "..     ...             ...                 ...         ...    ...\n",
       "277  92114         Commune           Sombreffe  01/01/2019  235.1\n",
       "278  92137         Commune         Sambreville  01/01/2019  825.7\n",
       "280  92140         Commune  Jemeppe-sur-Sambre  01/01/2019  408.5\n",
       "281  92141         Commune          La Bruyère  01/01/2019  174.9\n",
       "282  92142         Commune            Gembloux  01/01/2019  269.7\n",
       "\n",
       "[165 rows x 5 columns]"
      ]
     },
     "execution_count": 27,
     "metadata": {},
     "output_type": "execute_result"
    }
   ],
   "source": [
    "df[df['value'] > 150]"
   ]
  },
  {
   "attachments": {},
   "cell_type": "markdown",
   "metadata": {},
   "source": [
    "This also works if you have multiple conditions. Let's say we want to find out when the values between two specific values, here 150 and 200. "
   ]
  },
  {
   "cell_type": "code",
   "execution_count": 28,
   "metadata": {},
   "outputs": [
    {
     "data": {
      "text/html": [
       "<div>\n",
       "<style scoped>\n",
       "    .dataframe tbody tr th:only-of-type {\n",
       "        vertical-align: middle;\n",
       "    }\n",
       "\n",
       "    .dataframe tbody tr th {\n",
       "        vertical-align: top;\n",
       "    }\n",
       "\n",
       "    .dataframe thead th {\n",
       "        text-align: right;\n",
       "    }\n",
       "</style>\n",
       "<table border=\"1\" class=\"dataframe\">\n",
       "  <thead>\n",
       "    <tr style=\"text-align: right;\">\n",
       "      <th></th>\n",
       "      <th>ins</th>\n",
       "      <th>type_entity</th>\n",
       "      <th>entity</th>\n",
       "      <th>period</th>\n",
       "      <th>value</th>\n",
       "    </tr>\n",
       "  </thead>\n",
       "  <tbody>\n",
       "    <tr>\n",
       "      <th>3</th>\n",
       "      <td>25005</td>\n",
       "      <td>Commune</td>\n",
       "      <td>Beauvechain</td>\n",
       "      <td>01/01/2019</td>\n",
       "      <td>187.8</td>\n",
       "    </tr>\n",
       "    <tr>\n",
       "      <th>8</th>\n",
       "      <td>25031</td>\n",
       "      <td>Commune</td>\n",
       "      <td>Genappe</td>\n",
       "      <td>01/01/2019</td>\n",
       "      <td>170.7</td>\n",
       "    </tr>\n",
       "    <tr>\n",
       "      <th>11</th>\n",
       "      <td>25044</td>\n",
       "      <td>Commune</td>\n",
       "      <td>Ittre</td>\n",
       "      <td>01/01/2019</td>\n",
       "      <td>196.7</td>\n",
       "    </tr>\n",
       "    <tr>\n",
       "      <th>12</th>\n",
       "      <td>25048</td>\n",
       "      <td>Commune</td>\n",
       "      <td>Jodoigne</td>\n",
       "      <td>01/01/2019</td>\n",
       "      <td>191.5</td>\n",
       "    </tr>\n",
       "    <tr>\n",
       "      <th>16</th>\n",
       "      <td>25084</td>\n",
       "      <td>Commune</td>\n",
       "      <td>Perwez</td>\n",
       "      <td>01/01/2019</td>\n",
       "      <td>181.8</td>\n",
       "    </tr>\n",
       "    <tr>\n",
       "      <th>25</th>\n",
       "      <td>25120</td>\n",
       "      <td>Commune</td>\n",
       "      <td>Orp-Jauche</td>\n",
       "      <td>01/01/2019</td>\n",
       "      <td>175.7</td>\n",
       "    </tr>\n",
       "    <tr>\n",
       "      <th>29</th>\n",
       "      <td>25124</td>\n",
       "      <td>Commune</td>\n",
       "      <td>Walhain</td>\n",
       "      <td>01/01/2019</td>\n",
       "      <td>188.8</td>\n",
       "    </tr>\n",
       "    <tr>\n",
       "      <th>31</th>\n",
       "      <td>51000</td>\n",
       "      <td>Arrondissement</td>\n",
       "      <td>Ath</td>\n",
       "      <td>01/01/2019</td>\n",
       "      <td>190.4</td>\n",
       "    </tr>\n",
       "    <tr>\n",
       "      <th>61</th>\n",
       "      <td>53044</td>\n",
       "      <td>Commune</td>\n",
       "      <td>Jurbise</td>\n",
       "      <td>01/01/2019</td>\n",
       "      <td>178.4</td>\n",
       "    </tr>\n",
       "    <tr>\n",
       "      <th>76</th>\n",
       "      <td>55085</td>\n",
       "      <td>Commune</td>\n",
       "      <td>Seneffe</td>\n",
       "      <td>01/01/2019</td>\n",
       "      <td>179.2</td>\n",
       "    </tr>\n",
       "    <tr>\n",
       "      <th>84</th>\n",
       "      <td>56044</td>\n",
       "      <td>Commune</td>\n",
       "      <td>Lobbes</td>\n",
       "      <td>01/01/2019</td>\n",
       "      <td>181.1</td>\n",
       "    </tr>\n",
       "    <tr>\n",
       "      <th>87</th>\n",
       "      <td>56078</td>\n",
       "      <td>Commune</td>\n",
       "      <td>Thuin</td>\n",
       "      <td>01/01/2019</td>\n",
       "      <td>191.7</td>\n",
       "    </tr>\n",
       "    <tr>\n",
       "      <th>95</th>\n",
       "      <td>57062</td>\n",
       "      <td>Commune</td>\n",
       "      <td>Pecq</td>\n",
       "      <td>01/01/2019</td>\n",
       "      <td>171.9</td>\n",
       "    </tr>\n",
       "    <tr>\n",
       "      <th>99</th>\n",
       "      <td>57093</td>\n",
       "      <td>Commune</td>\n",
       "      <td>Brunehaut</td>\n",
       "      <td>01/01/2019</td>\n",
       "      <td>173.5</td>\n",
       "    </tr>\n",
       "    <tr>\n",
       "      <th>100</th>\n",
       "      <td>57094</td>\n",
       "      <td>Commune</td>\n",
       "      <td>Leuze-en-Hainaut</td>\n",
       "      <td>01/01/2019</td>\n",
       "      <td>186.0</td>\n",
       "    </tr>\n",
       "    <tr>\n",
       "      <th>111</th>\n",
       "      <td>61000</td>\n",
       "      <td>Arrondissement</td>\n",
       "      <td>Huy</td>\n",
       "      <td>01/01/2019</td>\n",
       "      <td>171.5</td>\n",
       "    </tr>\n",
       "    <tr>\n",
       "      <th>119</th>\n",
       "      <td>61039</td>\n",
       "      <td>Commune</td>\n",
       "      <td>Marchin</td>\n",
       "      <td>01/01/2019</td>\n",
       "      <td>181.4</td>\n",
       "    </tr>\n",
       "    <tr>\n",
       "      <th>121</th>\n",
       "      <td>61043</td>\n",
       "      <td>Commune</td>\n",
       "      <td>Nandrin</td>\n",
       "      <td>01/01/2019</td>\n",
       "      <td>159.3</td>\n",
       "    </tr>\n",
       "    <tr>\n",
       "      <th>123</th>\n",
       "      <td>61063</td>\n",
       "      <td>Commune</td>\n",
       "      <td>Verlaine</td>\n",
       "      <td>01/01/2019</td>\n",
       "      <td>173.3</td>\n",
       "    </tr>\n",
       "    <tr>\n",
       "      <th>124</th>\n",
       "      <td>61068</td>\n",
       "      <td>Commune</td>\n",
       "      <td>Villers-le-Bouillet</td>\n",
       "      <td>01/01/2019</td>\n",
       "      <td>197.7</td>\n",
       "    </tr>\n",
       "    <tr>\n",
       "      <th>132</th>\n",
       "      <td>62009</td>\n",
       "      <td>Commune</td>\n",
       "      <td>Aywaille</td>\n",
       "      <td>01/01/2019</td>\n",
       "      <td>155.6</td>\n",
       "    </tr>\n",
       "    <tr>\n",
       "      <th>147</th>\n",
       "      <td>62100</td>\n",
       "      <td>Commune</td>\n",
       "      <td>Sprimont</td>\n",
       "      <td>01/01/2019</td>\n",
       "      <td>197.4</td>\n",
       "    </tr>\n",
       "    <tr>\n",
       "      <th>182</th>\n",
       "      <td>63088</td>\n",
       "      <td>Commune</td>\n",
       "      <td>Plombières</td>\n",
       "      <td>01/01/2019</td>\n",
       "      <td>196.6</td>\n",
       "    </tr>\n",
       "    <tr>\n",
       "      <th>183</th>\n",
       "      <td>63089</td>\n",
       "      <td>Commune</td>\n",
       "      <td>Thimister-Clermont</td>\n",
       "      <td>01/01/2019</td>\n",
       "      <td>199.0</td>\n",
       "    </tr>\n",
       "    <tr>\n",
       "      <th>189</th>\n",
       "      <td>64025</td>\n",
       "      <td>Commune</td>\n",
       "      <td>Fexhe-le-Haut-Clocher</td>\n",
       "      <td>01/01/2019</td>\n",
       "      <td>166.3</td>\n",
       "    </tr>\n",
       "    <tr>\n",
       "      <th>191</th>\n",
       "      <td>64034</td>\n",
       "      <td>Commune</td>\n",
       "      <td>Hannut</td>\n",
       "      <td>01/01/2019</td>\n",
       "      <td>191.6</td>\n",
       "    </tr>\n",
       "    <tr>\n",
       "      <th>193</th>\n",
       "      <td>64056</td>\n",
       "      <td>Commune</td>\n",
       "      <td>Oreye</td>\n",
       "      <td>01/01/2019</td>\n",
       "      <td>199.8</td>\n",
       "    </tr>\n",
       "    <tr>\n",
       "      <th>200</th>\n",
       "      <td>81000</td>\n",
       "      <td>Arrondissement</td>\n",
       "      <td>Arlon</td>\n",
       "      <td>01/01/2019</td>\n",
       "      <td>196.4</td>\n",
       "    </tr>\n",
       "    <tr>\n",
       "      <th>205</th>\n",
       "      <td>81015</td>\n",
       "      <td>Commune</td>\n",
       "      <td>Messancy</td>\n",
       "      <td>01/01/2019</td>\n",
       "      <td>156.2</td>\n",
       "    </tr>\n",
       "    <tr>\n",
       "      <th>263</th>\n",
       "      <td>91141</td>\n",
       "      <td>Commune</td>\n",
       "      <td>Yvoir</td>\n",
       "      <td>01/01/2019</td>\n",
       "      <td>160.6</td>\n",
       "    </tr>\n",
       "    <tr>\n",
       "      <th>269</th>\n",
       "      <td>92035</td>\n",
       "      <td>Commune</td>\n",
       "      <td>Éghezée</td>\n",
       "      <td>01/01/2019</td>\n",
       "      <td>158.3</td>\n",
       "    </tr>\n",
       "    <tr>\n",
       "      <th>271</th>\n",
       "      <td>92048</td>\n",
       "      <td>Commune</td>\n",
       "      <td>Fosses-la-Ville</td>\n",
       "      <td>01/01/2019</td>\n",
       "      <td>164.1</td>\n",
       "    </tr>\n",
       "    <tr>\n",
       "      <th>281</th>\n",
       "      <td>92141</td>\n",
       "      <td>Commune</td>\n",
       "      <td>La Bruyère</td>\n",
       "      <td>01/01/2019</td>\n",
       "      <td>174.9</td>\n",
       "    </tr>\n",
       "  </tbody>\n",
       "</table>\n",
       "</div>"
      ],
      "text/plain": [
       "       ins     type_entity                 entity      period  value\n",
       "3    25005         Commune            Beauvechain  01/01/2019  187.8\n",
       "8    25031         Commune                Genappe  01/01/2019  170.7\n",
       "11   25044         Commune                  Ittre  01/01/2019  196.7\n",
       "12   25048         Commune               Jodoigne  01/01/2019  191.5\n",
       "16   25084         Commune                 Perwez  01/01/2019  181.8\n",
       "25   25120         Commune             Orp-Jauche  01/01/2019  175.7\n",
       "29   25124         Commune                Walhain  01/01/2019  188.8\n",
       "31   51000  Arrondissement                    Ath  01/01/2019  190.4\n",
       "61   53044         Commune                Jurbise  01/01/2019  178.4\n",
       "76   55085         Commune                Seneffe  01/01/2019  179.2\n",
       "84   56044         Commune                 Lobbes  01/01/2019  181.1\n",
       "87   56078         Commune                  Thuin  01/01/2019  191.7\n",
       "95   57062         Commune                   Pecq  01/01/2019  171.9\n",
       "99   57093         Commune              Brunehaut  01/01/2019  173.5\n",
       "100  57094         Commune       Leuze-en-Hainaut  01/01/2019  186.0\n",
       "111  61000  Arrondissement                    Huy  01/01/2019  171.5\n",
       "119  61039         Commune                Marchin  01/01/2019  181.4\n",
       "121  61043         Commune                Nandrin  01/01/2019  159.3\n",
       "123  61063         Commune               Verlaine  01/01/2019  173.3\n",
       "124  61068         Commune    Villers-le-Bouillet  01/01/2019  197.7\n",
       "132  62009         Commune               Aywaille  01/01/2019  155.6\n",
       "147  62100         Commune               Sprimont  01/01/2019  197.4\n",
       "182  63088         Commune             Plombières  01/01/2019  196.6\n",
       "183  63089         Commune     Thimister-Clermont  01/01/2019  199.0\n",
       "189  64025         Commune  Fexhe-le-Haut-Clocher  01/01/2019  166.3\n",
       "191  64034         Commune                 Hannut  01/01/2019  191.6\n",
       "193  64056         Commune                  Oreye  01/01/2019  199.8\n",
       "200  81000  Arrondissement                  Arlon  01/01/2019  196.4\n",
       "205  81015         Commune               Messancy  01/01/2019  156.2\n",
       "263  91141         Commune                  Yvoir  01/01/2019  160.6\n",
       "269  92035         Commune                Éghezée  01/01/2019  158.3\n",
       "271  92048         Commune        Fosses-la-Ville  01/01/2019  164.1\n",
       "281  92141         Commune             La Bruyère  01/01/2019  174.9"
      ]
     },
     "execution_count": 28,
     "metadata": {},
     "output_type": "execute_result"
    }
   ],
   "source": [
    "df[(df['value'] > 150) & (df['value'] < 200)]"
   ]
  },
  {
   "attachments": {},
   "cell_type": "markdown",
   "metadata": {},
   "source": [
    "# Grouping"
   ]
  },
  {
   "attachments": {},
   "cell_type": "markdown",
   "metadata": {},
   "source": [
    "Another important function in Pandas is `groupby` This is a function that allows you to group entries by certain attributes (e.g Grouping entries by `ins` number) and then perform operations on them."
   ]
  },
  {
   "cell_type": "code",
   "execution_count": 29,
   "metadata": {},
   "outputs": [
    {
     "data": {
      "text/plain": [
       "ins\n",
       "3000     215.0\n",
       "20002    367.9\n",
       "25000    367.9\n",
       "25005    187.8\n",
       "25014    764.8\n",
       "Name: value, dtype: float64"
      ]
     },
     "execution_count": 29,
     "metadata": {},
     "output_type": "execute_result"
    }
   ],
   "source": [
    "df.groupby('ins')['value'].mean().head()"
   ]
  },
  {
   "attachments": {},
   "cell_type": "markdown",
   "metadata": {},
   "source": [
    "This next command groups all the entities with the same value and finds how many times that specific entity appears on the group."
   ]
  },
  {
   "cell_type": "code",
   "execution_count": 30,
   "metadata": {},
   "outputs": [
    {
     "data": {
      "text/plain": [
       "value  entity             \n",
       "24.5   Daverdisse             1\n",
       "25.8   Vresse-sur-Semois      1\n",
       "26.1   Sainte-Ode             1\n",
       "27.8   Herbeumont             1\n",
       "28.6   La Roche-en-Ardenne    1\n",
       "Name: count, dtype: int64"
      ]
     },
     "execution_count": 30,
     "metadata": {},
     "output_type": "execute_result"
    }
   ],
   "source": [
    "df.groupby('value')['entity'].value_counts().head()"
   ]
  },
  {
   "attachments": {},
   "cell_type": "markdown",
   "metadata": {},
   "source": [
    "Each dataframe has a `values` attribute which is useful because it basically displays your dataframe in a numpy array style format"
   ]
  },
  {
   "cell_type": "code",
   "execution_count": 31,
   "metadata": {},
   "outputs": [
    {
     "data": {
      "text/plain": [
       "array([[3000, 'Région', 'Wallonie', '01/01/2019', 215.0],\n",
       "       [20002, 'Province', 'Brabant Wallon', '01/01/2019', 367.9],\n",
       "       [25000, 'Arrondissement', 'Nivelles', '01/01/2019', 367.9],\n",
       "       ...,\n",
       "       [93056, 'Commune', 'Philippeville', '01/01/2019', 59.0],\n",
       "       [93088, 'Commune', 'Walcourt', '01/01/2019', 149.1],\n",
       "       [93090, 'Commune', 'Viroinval', '01/01/2019', 46.7]], dtype=object)"
      ]
     },
     "execution_count": 31,
     "metadata": {},
     "output_type": "execute_result"
    }
   ],
   "source": [
    "df.values"
   ]
  },
  {
   "attachments": {},
   "cell_type": "markdown",
   "metadata": {},
   "source": [
    "Now, you can simply just access elements like you would in an array. "
   ]
  },
  {
   "cell_type": "code",
   "execution_count": 32,
   "metadata": {},
   "outputs": [
    {
     "data": {
      "text/plain": [
       "3000"
      ]
     },
     "execution_count": 32,
     "metadata": {},
     "output_type": "execute_result"
    }
   ],
   "source": [
    "df.values[0][0]"
   ]
  },
  {
   "attachments": {},
   "cell_type": "markdown",
   "metadata": {},
   "source": [
    "# Dataframe Iteration"
   ]
  },
  {
   "attachments": {},
   "cell_type": "markdown",
   "metadata": {},
   "source": [
    "In order to iterate through dataframes, we can use the `iterrows` function. Below is an example of what the first two rows look like. Each row in `df.iterrows()` is a `Series` object"
   ]
  },
  {
   "cell_type": "code",
   "execution_count": null,
   "metadata": {},
   "outputs": [],
   "source": [
    "for index, row in df.iterrows():\n",
    "    print(row)\n",
    "    if index == 1:\n",
    "        break"
   ]
  },
  {
   "attachments": {},
   "cell_type": "markdown",
   "metadata": {},
   "source": [
    "# Extracting Rows and Columns"
   ]
  },
  {
   "attachments": {},
   "cell_type": "markdown",
   "metadata": {},
   "source": [
    "The bracket indexing operator is one way to extract certain columns from a dataframe."
   ]
  },
  {
   "cell_type": "code",
   "execution_count": 33,
   "metadata": {},
   "outputs": [
    {
     "data": {
      "text/html": [
       "<div>\n",
       "<style scoped>\n",
       "    .dataframe tbody tr th:only-of-type {\n",
       "        vertical-align: middle;\n",
       "    }\n",
       "\n",
       "    .dataframe tbody tr th {\n",
       "        vertical-align: top;\n",
       "    }\n",
       "\n",
       "    .dataframe thead th {\n",
       "        text-align: right;\n",
       "    }\n",
       "</style>\n",
       "<table border=\"1\" class=\"dataframe\">\n",
       "  <thead>\n",
       "    <tr style=\"text-align: right;\">\n",
       "      <th></th>\n",
       "      <th>entity</th>\n",
       "      <th>value</th>\n",
       "    </tr>\n",
       "  </thead>\n",
       "  <tbody>\n",
       "    <tr>\n",
       "      <th>0</th>\n",
       "      <td>Wallonie</td>\n",
       "      <td>215.0</td>\n",
       "    </tr>\n",
       "    <tr>\n",
       "      <th>1</th>\n",
       "      <td>Brabant Wallon</td>\n",
       "      <td>367.9</td>\n",
       "    </tr>\n",
       "    <tr>\n",
       "      <th>2</th>\n",
       "      <td>Nivelles</td>\n",
       "      <td>367.9</td>\n",
       "    </tr>\n",
       "    <tr>\n",
       "      <th>3</th>\n",
       "      <td>Beauvechain</td>\n",
       "      <td>187.8</td>\n",
       "    </tr>\n",
       "    <tr>\n",
       "      <th>4</th>\n",
       "      <td>Braine-l'Alleud</td>\n",
       "      <td>764.8</td>\n",
       "    </tr>\n",
       "  </tbody>\n",
       "</table>\n",
       "</div>"
      ],
      "text/plain": [
       "            entity  value\n",
       "0         Wallonie  215.0\n",
       "1   Brabant Wallon  367.9\n",
       "2         Nivelles  367.9\n",
       "3      Beauvechain  187.8\n",
       "4  Braine-l'Alleud  764.8"
      ]
     },
     "execution_count": 33,
     "metadata": {},
     "output_type": "execute_result"
    }
   ],
   "source": [
    "df[['entity', 'value']].head()"
   ]
  },
  {
   "attachments": {},
   "cell_type": "markdown",
   "metadata": {},
   "source": [
    "Notice that you can achieve the same result by using the `loc` function. `loc` is a veryyyy versatile function that can help you in a lot of accessing and extracting tasks. "
   ]
  },
  {
   "cell_type": "code",
   "execution_count": 34,
   "metadata": {},
   "outputs": [
    {
     "data": {
      "text/html": [
       "<div>\n",
       "<style scoped>\n",
       "    .dataframe tbody tr th:only-of-type {\n",
       "        vertical-align: middle;\n",
       "    }\n",
       "\n",
       "    .dataframe tbody tr th {\n",
       "        vertical-align: top;\n",
       "    }\n",
       "\n",
       "    .dataframe thead th {\n",
       "        text-align: right;\n",
       "    }\n",
       "</style>\n",
       "<table border=\"1\" class=\"dataframe\">\n",
       "  <thead>\n",
       "    <tr style=\"text-align: right;\">\n",
       "      <th></th>\n",
       "      <th>entity</th>\n",
       "      <th>value</th>\n",
       "    </tr>\n",
       "  </thead>\n",
       "  <tbody>\n",
       "    <tr>\n",
       "      <th>0</th>\n",
       "      <td>Wallonie</td>\n",
       "      <td>215.0</td>\n",
       "    </tr>\n",
       "    <tr>\n",
       "      <th>1</th>\n",
       "      <td>Brabant Wallon</td>\n",
       "      <td>367.9</td>\n",
       "    </tr>\n",
       "    <tr>\n",
       "      <th>2</th>\n",
       "      <td>Nivelles</td>\n",
       "      <td>367.9</td>\n",
       "    </tr>\n",
       "    <tr>\n",
       "      <th>3</th>\n",
       "      <td>Beauvechain</td>\n",
       "      <td>187.8</td>\n",
       "    </tr>\n",
       "    <tr>\n",
       "      <th>4</th>\n",
       "      <td>Braine-l'Alleud</td>\n",
       "      <td>764.8</td>\n",
       "    </tr>\n",
       "  </tbody>\n",
       "</table>\n",
       "</div>"
      ],
      "text/plain": [
       "            entity  value\n",
       "0         Wallonie  215.0\n",
       "1   Brabant Wallon  367.9\n",
       "2         Nivelles  367.9\n",
       "3      Beauvechain  187.8\n",
       "4  Braine-l'Alleud  764.8"
      ]
     },
     "execution_count": 34,
     "metadata": {},
     "output_type": "execute_result"
    }
   ],
   "source": [
    "df.loc[:, ['entity', 'value']].head()"
   ]
  },
  {
   "attachments": {},
   "cell_type": "markdown",
   "metadata": {},
   "source": [
    "Note the difference is the return types when you use brackets and when you use double brackets. "
   ]
  },
  {
   "cell_type": "code",
   "execution_count": 35,
   "metadata": {},
   "outputs": [
    {
     "data": {
      "text/plain": [
       "pandas.core.series.Series"
      ]
     },
     "execution_count": 35,
     "metadata": {},
     "output_type": "execute_result"
    }
   ],
   "source": [
    "type(df['entity'])"
   ]
  },
  {
   "cell_type": "code",
   "execution_count": 36,
   "metadata": {},
   "outputs": [
    {
     "data": {
      "text/plain": [
       "pandas.core.frame.DataFrame"
      ]
     },
     "execution_count": 36,
     "metadata": {},
     "output_type": "execute_result"
    }
   ],
   "source": [
    "type(df[['entity']])"
   ]
  },
  {
   "attachments": {},
   "cell_type": "markdown",
   "metadata": {},
   "source": [
    "You've seen before that you can access columns through `df['col name']`. You can also access rows by using slicing operations. "
   ]
  },
  {
   "cell_type": "code",
   "execution_count": 37,
   "metadata": {},
   "outputs": [
    {
     "data": {
      "text/html": [
       "<div>\n",
       "<style scoped>\n",
       "    .dataframe tbody tr th:only-of-type {\n",
       "        vertical-align: middle;\n",
       "    }\n",
       "\n",
       "    .dataframe tbody tr th {\n",
       "        vertical-align: top;\n",
       "    }\n",
       "\n",
       "    .dataframe thead th {\n",
       "        text-align: right;\n",
       "    }\n",
       "</style>\n",
       "<table border=\"1\" class=\"dataframe\">\n",
       "  <thead>\n",
       "    <tr style=\"text-align: right;\">\n",
       "      <th></th>\n",
       "      <th>ins</th>\n",
       "      <th>type_entity</th>\n",
       "      <th>entity</th>\n",
       "      <th>period</th>\n",
       "      <th>value</th>\n",
       "    </tr>\n",
       "  </thead>\n",
       "  <tbody>\n",
       "    <tr>\n",
       "      <th>0</th>\n",
       "      <td>3000</td>\n",
       "      <td>Région</td>\n",
       "      <td>Wallonie</td>\n",
       "      <td>01/01/2019</td>\n",
       "      <td>215.0</td>\n",
       "    </tr>\n",
       "    <tr>\n",
       "      <th>1</th>\n",
       "      <td>20002</td>\n",
       "      <td>Province</td>\n",
       "      <td>Brabant Wallon</td>\n",
       "      <td>01/01/2019</td>\n",
       "      <td>367.9</td>\n",
       "    </tr>\n",
       "    <tr>\n",
       "      <th>2</th>\n",
       "      <td>25000</td>\n",
       "      <td>Arrondissement</td>\n",
       "      <td>Nivelles</td>\n",
       "      <td>01/01/2019</td>\n",
       "      <td>367.9</td>\n",
       "    </tr>\n",
       "  </tbody>\n",
       "</table>\n",
       "</div>"
      ],
      "text/plain": [
       "     ins     type_entity          entity      period  value\n",
       "0   3000          Région        Wallonie  01/01/2019  215.0\n",
       "1  20002        Province  Brabant Wallon  01/01/2019  367.9\n",
       "2  25000  Arrondissement        Nivelles  01/01/2019  367.9"
      ]
     },
     "execution_count": 37,
     "metadata": {},
     "output_type": "execute_result"
    }
   ],
   "source": [
    "df[0:3]"
   ]
  },
  {
   "attachments": {},
   "cell_type": "markdown",
   "metadata": {},
   "source": [
    "Here's an equivalent using `iloc`"
   ]
  },
  {
   "cell_type": "code",
   "execution_count": 38,
   "metadata": {},
   "outputs": [
    {
     "data": {
      "text/html": [
       "<div>\n",
       "<style scoped>\n",
       "    .dataframe tbody tr th:only-of-type {\n",
       "        vertical-align: middle;\n",
       "    }\n",
       "\n",
       "    .dataframe tbody tr th {\n",
       "        vertical-align: top;\n",
       "    }\n",
       "\n",
       "    .dataframe thead th {\n",
       "        text-align: right;\n",
       "    }\n",
       "</style>\n",
       "<table border=\"1\" class=\"dataframe\">\n",
       "  <thead>\n",
       "    <tr style=\"text-align: right;\">\n",
       "      <th></th>\n",
       "      <th>ins</th>\n",
       "      <th>type_entity</th>\n",
       "      <th>entity</th>\n",
       "      <th>period</th>\n",
       "      <th>value</th>\n",
       "    </tr>\n",
       "  </thead>\n",
       "  <tbody>\n",
       "    <tr>\n",
       "      <th>0</th>\n",
       "      <td>3000</td>\n",
       "      <td>Région</td>\n",
       "      <td>Wallonie</td>\n",
       "      <td>01/01/2019</td>\n",
       "      <td>215.0</td>\n",
       "    </tr>\n",
       "    <tr>\n",
       "      <th>1</th>\n",
       "      <td>20002</td>\n",
       "      <td>Province</td>\n",
       "      <td>Brabant Wallon</td>\n",
       "      <td>01/01/2019</td>\n",
       "      <td>367.9</td>\n",
       "    </tr>\n",
       "    <tr>\n",
       "      <th>2</th>\n",
       "      <td>25000</td>\n",
       "      <td>Arrondissement</td>\n",
       "      <td>Nivelles</td>\n",
       "      <td>01/01/2019</td>\n",
       "      <td>367.9</td>\n",
       "    </tr>\n",
       "  </tbody>\n",
       "</table>\n",
       "</div>"
      ],
      "text/plain": [
       "     ins     type_entity          entity      period  value\n",
       "0   3000          Région        Wallonie  01/01/2019  215.0\n",
       "1  20002        Province  Brabant Wallon  01/01/2019  367.9\n",
       "2  25000  Arrondissement        Nivelles  01/01/2019  367.9"
      ]
     },
     "execution_count": 38,
     "metadata": {},
     "output_type": "execute_result"
    }
   ],
   "source": [
    "df.iloc[0:3,:]"
   ]
  },
  {
   "attachments": {},
   "cell_type": "markdown",
   "metadata": {},
   "source": [
    "# Data Cleaning"
   ]
  },
  {
   "attachments": {},
   "cell_type": "markdown",
   "metadata": {},
   "source": [
    "One of the big jobs of doing well in [Kaggle competitions](https://www.kaggle.com/competitions) is the one of data cleaning. A lot of times, the CSV file you're given (especially like in the Titanic dataset), you'll have a lot of missing values in the dataset, which you have to identify. The following `isnull` function will figure out if there are any missing values in the dataframe, and will then sum up the total for each column. In this case, we have a pretty clean dataset."
   ]
  },
  {
   "cell_type": "code",
   "execution_count": 39,
   "metadata": {},
   "outputs": [
    {
     "data": {
      "text/plain": [
       "ins            0\n",
       "type_entity    0\n",
       "entity         0\n",
       "period         0\n",
       "value          0\n",
       "dtype: int64"
      ]
     },
     "execution_count": 39,
     "metadata": {},
     "output_type": "execute_result"
    }
   ],
   "source": [
    "df.isnull().sum()"
   ]
  },
  {
   "attachments": {},
   "cell_type": "markdown",
   "metadata": {},
   "source": [
    "If you do end up having missing values in your datasets, be sure to get familiar with these two functions. \n",
    "* `dropna()` - This function allows you to drop all(or some) of the rows that have missing values. \n",
    "* `fillna()` - This function allows you replace the rows that have missing values with the value that you pass in."
   ]
  },
  {
   "attachments": {},
   "cell_type": "markdown",
   "metadata": {},
   "source": [
    "# Creating Kaggle Submission CSVs"
   ]
  },
  {
   "attachments": {},
   "cell_type": "markdown",
   "metadata": {},
   "source": [
    "This isn't directly Pandas related, but most people who use Pandas probably do a lot of Kaggle competitions as well. As you probably know, Kaggle competitions require you to create a CSV of your predictions. Here's some starter code that can help you create that csv file."
   ]
  },
  {
   "cell_type": "code",
   "execution_count": 41,
   "metadata": {},
   "outputs": [
    {
     "name": "stdout",
     "output_type": "stream",
     "text": [
      "[[ 0 10]\n",
      " [ 1 15]\n",
      " [ 2 20]]\n"
     ]
    }
   ],
   "source": [
    "import numpy as np\n",
    "import csv\n",
    "\n",
    "results = [[0,10],[1,15],[2,20]]\n",
    "results = np.array(results)\n",
    "print(results)"
   ]
  },
  {
   "cell_type": "code",
   "execution_count": 44,
   "metadata": {},
   "outputs": [],
   "source": [
    "firstRow = [['id', 'pred']]\n",
    "with open(\"result.csv\", \"w\") as f:\n",
    "    writer = csv.writer(f)\n",
    "    writer.writerows(firstRow)\n",
    "    writer.writerows(results)"
   ]
  },
  {
   "attachments": {},
   "cell_type": "markdown",
   "metadata": {},
   "source": [
    "The approach I described above deals more with python lists and numpy. If you want a purely Pandas based approach, take a look at this video: https://www.youtube.com/watch?v=ylRlGCtAtiE&list=PL5-da3qGB5ICCsgW1MxlZ0Hq8LL5U3u9y&index=22"
   ]
  },
  {
   "attachments": {},
   "cell_type": "markdown",
   "metadata": {},
   "source": [
    "# Other Useful Functions"
   ]
  },
  {
   "attachments": {},
   "cell_type": "markdown",
   "metadata": {},
   "source": [
    "* `drop()` - This function removes the column or row that you pass in (You also have the specify the axis). \n",
    "* `agg()` - The aggregate function lets you compute summary statistics about each group\n",
    "* `apply()` - Lets you apply a specific function to any/all elements in a Dataframe or Series\n",
    "* `get_dummies()` - Helpful for turning categorical data into one hot vectors.\n",
    "* `drop_duplicates()` - Lets you remove identical rows\n",
    "\n",
    "* `drop()` - 该函数用于删除输入的列或行（还需要指定坐标轴）。\n",
    "* `agg()` - 通过聚合函数，你可以计算每个组的汇总统计数据。\n",
    "* `apply()` - 可以对数据帧或系列中的任何/所有元素应用特定函数。\n",
    "* `get_dummies()` - 有助于将分类数据转化为单热向量。\n",
    "* `drop_duplicates()` - 可以删除相同的行。"
   ]
  },
  {
   "attachments": {},
   "cell_type": "markdown",
   "metadata": {},
   "source": [
    "# Lots of Other Great Resources"
   ]
  },
  {
   "attachments": {},
   "cell_type": "markdown",
   "metadata": {},
   "source": [
    "Pandas has been around for a while and there are a lot of other good resources if you're still interested on getting the most out of this library. \n",
    "* http://pandas.pydata.org/pandas-docs/stable/10min.html\n",
    "* https://www.datacamp.com/community/tutorials/pandas-tutorial-dataframe-python\n",
    "* http://www.gregreda.com/2013/10/26/intro-to-pandas-data-structures/\n",
    "* https://www.dataquest.io/blog/pandas-python-tutorial/\n",
    "* https://www.youtube.com/playlist?list=PL5-da3qGB5ICCsgW1MxlZ0Hq8LL5U3u9y"
   ]
  }
 ],
 "metadata": {
  "anaconda-cloud": {},
  "kernelspec": {
   "display_name": "Python 3",
   "language": "python",
   "name": "python3"
  },
  "language_info": {
   "codemirror_mode": {
    "name": "ipython",
    "version": 3
   },
   "file_extension": ".py",
   "mimetype": "text/x-python",
   "name": "python",
   "nbconvert_exporter": "python",
   "pygments_lexer": "ipython3",
   "version": "3.12.4"
  },
  "toc": {
   "base_numbering": 1,
   "nav_menu": {},
   "number_sections": true,
   "sideBar": true,
   "skip_h1_title": false,
   "title_cell": "Table of Contents",
   "title_sidebar": "Contents",
   "toc_cell": false,
   "toc_position": {},
   "toc_section_display": true,
   "toc_window_display": false
  }
 },
 "nbformat": 4,
 "nbformat_minor": 1
}
