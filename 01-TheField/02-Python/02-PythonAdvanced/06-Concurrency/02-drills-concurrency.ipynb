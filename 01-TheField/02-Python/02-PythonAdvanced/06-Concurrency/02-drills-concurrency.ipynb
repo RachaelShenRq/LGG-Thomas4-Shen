{
 "cells": [
  {
   "cell_type": "markdown",
   "metadata": {},
   "source": [
    "# Drill - Threading\n",
    "\n"
   ]
  },
  {
   "cell_type": "markdown",
   "metadata": {},
   "source": [
    "### Exercise 1\n",
    "In the `data/` folder, you have 10 files that contain Shakespears sonnets. You have to gather all these files into one file `data_all.txt` using threads. Be careful, the sonnets must appear in order."
   ]
  },
  {
   "cell_type": "code",
   "execution_count": null,
   "metadata": {},
   "outputs": [],
   "source": [
    "import os\n",
    "from time import perf_counter\n",
    "from time import sleep\n",
    "from threading import Thread   \n",
    "from threading import RLock \n",
    "rlock = RLock()\n",
    "start_time = perf_counter()\n",
    "\n",
    "def sonnet(i):\n",
    "    folder = \"/Users/carpanalper/Desktop/LGG-Thomas4-Alper/01-TheField/02-Python/02-PythonAdvanced/06-Concurrency/data/\"\n",
    "    output = \"data_all.txt\"\n",
    "    with open(output, \"a\", encoding='utf-8') as outfile:\n",
    "        filepath = os.path.join(folder, f\"data_part_{i}.txt\") \n",
    "        with open(filepath,\"r\", encoding = 'utf-8') as infile:\n",
    "                content = infile.read()\n",
    "                outfile.write(content)\n",
    "                outfile.write(\"\\n\")\n",
    "    sleep(0.1)\n",
    "\n",
    "for i in range(1,11):\n",
    "    sonnet(i)\n",
    "\n",
    "print(f\"\\nTime spent inside the loop: {perf_counter() - start_time} seconds.\")"
   ]
  },
  {
   "cell_type": "code",
   "execution_count": null,
   "metadata": {},
   "outputs": [],
   "source": [
    "start_time = perf_counter()\n",
    "threads = list()\n",
    "for i in range(1,11):\n",
    "    thread = Thread(target=sonnet, args=(i,))\n",
    "    threads.append(thread) \n",
    "\n",
    "for thread in threads:  \n",
    "    thread.start()\n",
    "\n",
    "for thread in threads:\n",
    "    thread.join() \n",
    "\n",
    "print(f\"\\nTime spent inside the loop: {perf_counter() - start_time} seconds.\")"
   ]
  },
  {
   "cell_type": "code",
   "execution_count": null,
   "metadata": {},
   "outputs": [],
   "source": [
    "def sonnet_locked(i):\n",
    "    folder = \"/Users/carpanalper/Desktop/LGG-Thomas4-Alper/01-TheField/02-Python/02-PythonAdvanced/06-Concurrency/data/\"\n",
    "    output = \"data_all.txt\"\n",
    "    with rlock:\n",
    "        with open(output, \"a\", encoding='utf-8') as outfile:\n",
    "            filepath = os.path.join(folder, f\"data_part_{i}.txt\") \n",
    "            with open(filepath,\"r\", encoding = 'utf-8') as infile:\n",
    "                    content = infile.read()\n",
    "                    outfile.write(content)\n",
    "                    outfile.write(\"\\n\")              \n",
    "    sleep(0.1)\n",
    "    \n",
    "\n",
    "start_time = perf_counter()\n",
    "threads = list()\n",
    "for i in range(1,11):\n",
    "    thread = Thread(target=sonnet_locked, args=(i,))\n",
    "    threads.append(thread) \n",
    "\n",
    "for thread in threads:  \n",
    "    thread.start()\n",
    "\n",
    "for thread in threads:\n",
    "    thread.join() \n",
    "\n",
    "print(f\"\\nTime spent inside the loop: {perf_counter() - start_time} seconds.\")"
   ]
  },
  {
   "cell_type": "markdown",
   "metadata": {},
   "source": [
    "### Exercise 2\n",
    "Scrap all the web pages in the `urls` list and display the links. 1 thread per link. "
   ]
  },
  {
   "cell_type": "code",
   "execution_count": null,
   "metadata": {},
   "outputs": [],
   "source": [
    "urls = [\n",
    "    \"http://www.python.org\",\n",
    "    \"http://www.python.org/about/\",\n",
    "    \"http://www.onlamp.com/pub/a/python/2003/04/17/metaclasses.html\",\n",
    "    \"http://www.python.org/doc/\",\n",
    "    \"http://www.python.org/download/\",\n",
    "    \"http://www.python.org/getit/\",\n",
    "    \"http://www.python.org/community/\",\n",
    "    \"https://wiki.python.org/moin/\",\n",
    "]"
   ]
  },
  {
   "cell_type": "code",
   "execution_count": null,
   "metadata": {},
   "outputs": [],
   "source": [
    "from bs4 import BeautifulSoup\n",
    "import requests\n",
    "\n",
    "start_time = perf_counter()\n",
    "\n",
    "def list_links(url):\n",
    "    r = requests.get(url)\n",
    "    print(url, r.status_code)\n",
    "    soup = BeautifulSoup(r.content, \"html.parser\")\n",
    "    links = soup.find_all(\"a\")\n",
    "    list_of_links = [elem.get(\"href\") for elem in links if 'http' in elem.get('href')]\n",
    "    print (list_of_links)\n",
    "    return \n",
    "   \n",
    "for url in urls:\n",
    "    list_links(url)\n",
    "\n",
    "print(f\"\\nTime spent inside the loop: {perf_counter() - start_time} seconds.\")"
   ]
  }
 ],
 "metadata": {
  "file_extension": ".py",
  "kernelspec": {
   "display_name": "Python 3",
   "language": "python",
   "name": "python3"
  },
  "language_info": {
   "codemirror_mode": {
    "name": "ipython"
   },
   "file_extension": ".py",
   "mimetype": "text/x-python",
   "name": "python",
   "nbconvert_exporter": "python"
  },
  "mimetype": "text/x-python",
  "name": "python",
  "npconvert_exporter": "python",
  "pygments_lexer": "ipython3",
  "version": 3
 },
 "nbformat": 4,
 "nbformat_minor": 2
}
